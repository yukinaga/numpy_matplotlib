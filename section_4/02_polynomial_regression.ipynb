{
  "nbformat": 4,
  "nbformat_minor": 0,
  "metadata": {
    "colab": {
      "name": "02_polynomial_regression.ipynb",
      "provenance": [],
      "collapsed_sections": [],
      "authorship_tag": "ABX9TyMary40bFtRjkggFI/x4e/6",
      "include_colab_link": true
    },
    "kernelspec": {
      "name": "python3",
      "display_name": "Python 3"
    },
    "language_info": {
      "name": "python"
    }
  },
  "cells": [
    {
      "cell_type": "markdown",
      "metadata": {
        "id": "view-in-github",
        "colab_type": "text"
      },
      "source": [
        "<a href=\"https://colab.research.google.com/github/yukinaga/numpy_matplotlib/blob/main/section_4/02_polynomial_regression.ipynb\" target=\"_parent\"><img src=\"https://colab.research.google.com/assets/colab-badge.svg\" alt=\"Open In Colab\"/></a>"
      ]
    },
    {
      "cell_type": "markdown",
      "metadata": {
        "id": "q5OmvSsgkb4C"
      },
      "source": [
        "# NumPyによる多項式回帰\n",
        "NumPyのpolyfit関数を使い、シンプルな機械学習である「多項式回帰」を実装します。  \n"
      ]
    },
    {
      "cell_type": "markdown",
      "metadata": {
        "id": "LoISGl864sy9"
      },
      "source": [
        "## ●訓練用データの作成\n",
        "sin関数に乱数でノイズを加えて、訓練用のデータを作成します。"
      ]
    },
    {
      "cell_type": "code",
      "metadata": {
        "id": "sQ1S5UNy-rpY"
      },
      "source": [
        "import numpy as np\n",
        "import matplotlib.pyplot as plt\n",
        "\n",
        "x = np.linspace(-2*np.pi, 2*np.pi)  # -2πから2πまで\n",
        "sin_y = np.sin(x)  + 0.2*np.random.randn(len(x))  # sin関数に乱数でノイズを加える\n",
        "plt.scatter(x, sin_y)  # ノイズ付き\n",
        "plt.plot(x, np.sin(x))  # ノイズ無し\n",
        "plt.show()"
      ],
      "execution_count": null,
      "outputs": []
    },
    {
      "cell_type": "code",
      "metadata": {
        "id": "LuJ_3Y1A-_bC"
      },
      "source": [
        "# 練習用\n"
      ],
      "execution_count": null,
      "outputs": []
    },
    {
      "cell_type": "markdown",
      "metadata": {
        "id": "doo7taNSbD4K"
      },
      "source": [
        "## ●多項式回帰とは？\n",
        "「回帰分析」は、データの傾向を学習する機械学習の一種です。  \n",
        "最もシンプルな「単回帰」では、$y=ax+b$という直線の式でデータの傾向を捉えます。  \n",
        "今回は、多項式をデータにあてはめる「多項式回帰」を実装します。  \n",
        "  \n",
        "$n$次の多項式は、以下の式で表されます。\n",
        "\n",
        "$$ f(x)  = \\sum_{k=0}^n a_kx^k $$\n",
        "\n",
        "この場合、$a_0, a_1, \\cdots, a_n$がパラメータです。  \n",
        "これらの値をデータに当てはめるように調整することで、多項式によるフィッティングが行われます。\n",
        "\n",
        "多項式回帰では、フィッティングのために「最小二乗法」がよく使われます。  \n",
        "最小二乗法とは、以下の二乗和$J$を最小にするように、関数$f(x)$のパラメータを調整することです。\n",
        "\n",
        "$$ J  = \\sum_{j=1}^m \\Bigl(f(x_j) - t_j\\Bigr)^2$$\n",
        "\n",
        "上記の式で、$t_j$は各データです。  "
      ]
    },
    {
      "cell_type": "markdown",
      "metadata": {
        "id": "dZ40arK4AuCp"
      },
      "source": [
        "## ●多項式回帰\n",
        "NumPyのpolyfit関数により、多項式ででデータの傾向を捉えます。  \n",
        "polyfit関数について、詳細は以下の公式ドキュメントに記述があります。  \n",
        "https://numpy.org/doc/stable/reference/generated/numpy.polyfit.html"
      ]
    },
    {
      "cell_type": "code",
      "metadata": {
        "id": "iI8x8_68AuCs"
      },
      "source": [
        "print(\"----- 3次式でフィット -----\")\n",
        "y_fit_3 = np.polyfit(x, sin_y, 3)  # 係数の取得\n",
        "print(y_fit_3)\n",
        "p_fit_3 = np.poly1d(y_fit_3)  # 多項式のオブジェクト\n",
        "plt.plot(x, p_fit_3(x), linestyle=\"dashed\")\n",
        "plt.scatter(x, sin_y)\n",
        "plt.show()\n",
        "\n",
        "print(\"----- 4次式でフィット -----\")\n",
        "y_fit_4 = np.polyfit(x, sin_y, 4)  # 係数の取得\n",
        "print(y_fit_4)\n",
        "p_fit_4 = np.poly1d(y_fit_4)  # 多項式のオブジェクト\n",
        "plt.plot(x, p_fit_4(x), linestyle=\"dashed\")\n",
        "plt.scatter(x, sin_y)\n",
        "plt.show()\n",
        "\n",
        "print(\"----- 5次式でフィット -----\")\n",
        "y_fit_5 = np.polyfit(x, sin_y, 5)  # 係数の取得\n",
        "print(y_fit_5)\n",
        "p_fit_5 = np.poly1d(y_fit_5)  # 多項式のオブジェクト\n",
        "plt.plot(x, p_fit_5(x), linestyle=\"dashed\")\n",
        "plt.scatter(x, sin_y)\n",
        "plt.show()\n",
        "\n",
        "print(\"----- 6次式でフィット -----\")\n",
        "y_fit_6 = np.polyfit(x, sin_y, 6)  # 係数の取得\n",
        "print(y_fit_6)\n",
        "p_fit_6 = np.poly1d(y_fit_6)  # 多項式のオブジェクト\n",
        "plt.plot(x, p_fit_6(x), linestyle=\"dashed\")\n",
        "plt.scatter(x, sin_y)\n",
        "plt.show()"
      ],
      "execution_count": null,
      "outputs": []
    },
    {
      "cell_type": "code",
      "metadata": {
        "id": "-SflZ5PsAuCt"
      },
      "source": [
        "# 練習用\n"
      ],
      "execution_count": null,
      "outputs": []
    },
    {
      "cell_type": "markdown",
      "source": [
        "多項式により、サインカーブの傾向を捉えることができました。"
      ],
      "metadata": {
        "id": "lsIfuLNmN_Yp"
      }
    },
    {
      "cell_type": "markdown",
      "source": [
        "## ●演習\n",
        "以下のデータの傾向を、NumPyのpolyfit関数で捉えましょう。   "
      ],
      "metadata": {
        "id": "i5ARLH-SPRsV"
      }
    },
    {
      "cell_type": "code",
      "source": [
        "import numpy as np\n",
        "import matplotlib.pyplot as plt\n",
        "\n",
        "x = np.linspace(-3*np.pi, 3*np.pi)  # -3πから3πまで\n",
        "cos_y = np.cos(x)  + 0.2*np.random.randn(len(x))  # cos関数に乱数でノイズを加える\n",
        "plt.scatter(x, cos_y)  # ノイズ付き\n",
        "plt.plot(x, np.cos(x))  # ノイズ無し\n",
        "plt.show()"
      ],
      "metadata": {
        "id": "Yvpo9o00PIgx"
      },
      "execution_count": null,
      "outputs": []
    },
    {
      "cell_type": "markdown",
      "source": [
        "以下のセルにコードを追記し、データの傾向を適切に捉える多項式回帰を実装してください。"
      ],
      "metadata": {
        "id": "uU_Dte_UPoPh"
      }
    },
    {
      "cell_type": "code",
      "source": [
        "y_fit = np.  # ←ここにコードを追記: 係数の取得\n",
        "print(y_fit)\n",
        "p_fit = np.poly1d(y_fit)  # 多項式のオブジェクト\n",
        "plt.plot(x, p_fit(x), linestyle=\"dashed\")\n",
        "plt.scatter(x, cos_y)\n",
        "plt.show()"
      ],
      "metadata": {
        "id": "On-YgGN_Qasz"
      },
      "execution_count": null,
      "outputs": []
    },
    {
      "cell_type": "markdown",
      "source": [
        "## ●解答例\n",
        "以下は解答例です。  \n",
        "どうしても分からない時、もしくは答え合わせ時に参考にしましょう。"
      ],
      "metadata": {
        "id": "Q_P1_O_FQY7J"
      }
    },
    {
      "cell_type": "code",
      "source": [
        "y_fit = np.polyfit(x, cos_y, 10)  # ←ここにコードを追記: 係数の取得\n",
        "print(y_fit)\n",
        "p_fit = np.poly1d(y_fit)  # 多項式のオブジェクト\n",
        "plt.plot(x, p_fit(x), linestyle=\"dashed\")\n",
        "plt.scatter(x, cos_y)\n",
        "plt.show()"
      ],
      "metadata": {
        "id": "R4iP50DMP3Cr"
      },
      "execution_count": null,
      "outputs": []
    }
  ]
}