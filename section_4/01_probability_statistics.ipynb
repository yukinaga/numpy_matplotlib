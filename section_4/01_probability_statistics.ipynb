{
  "nbformat": 4,
  "nbformat_minor": 0,
  "metadata": {
    "colab": {
      "name": "01_probability_statistics.ipynb",
      "provenance": [],
      "collapsed_sections": [],
      "authorship_tag": "ABX9TyMw+Aeacx2LS+e7fw2UL7ib",
      "include_colab_link": true
    },
    "kernelspec": {
      "name": "python3",
      "display_name": "Python 3"
    },
    "language_info": {
      "name": "python"
    }
  },
  "cells": [
    {
      "cell_type": "markdown",
      "metadata": {
        "id": "view-in-github",
        "colab_type": "text"
      },
      "source": [
        "<a href=\"https://colab.research.google.com/github/yukinaga/numpy_matplotlib/blob/main/section_4/01_probability_statistics.ipynb\" target=\"_parent\"><img src=\"https://colab.research.google.com/assets/colab-badge.svg\" alt=\"Open In Colab\"/></a>"
      ]
    },
    {
      "cell_type": "markdown",
      "metadata": {
        "id": "q5OmvSsgkb4C"
      },
      "source": [
        "# NumPyによる確率/統計\n",
        "NumPyは、確率/統計において有用な様々な関数を提供しています。  \n"
      ]
    },
    {
      "cell_type": "markdown",
      "metadata": {
        "id": "h98GcJ6pzM3a"
      },
      "source": [
        "## ●乱数とは？\n",
        "例えばサイコロを投げる場合、上の面が決まるまで1-6のどれが出るのか分かりません。「乱数」とは、このような未確定の数値です。  \n",
        "以下のコードは、NumPyの`random.randint( )`を使って、サイコロのように1-6の値をランダムに返すコードです。`randint( )`関数に整数$n$を引数として渡すと、$0$から$n-1$までの整数の乱数を返します。  "
      ]
    },
    {
      "cell_type": "code",
      "metadata": {
        "id": "L64-c7wdzM3a"
      },
      "source": [
        "import numpy as np\n",
        "\n",
        "r_int = np.random.randint(6) + 1  # 0から5までの乱数に、1を加える\n",
        "print(r_int)  # 1から6までがランダムに表示される"
      ],
      "execution_count": null,
      "outputs": []
    },
    {
      "cell_type": "code",
      "metadata": {
        "id": "G2cA1xc4CZ8_"
      },
      "source": [
        "# 練習用\n"
      ],
      "execution_count": null,
      "outputs": []
    },
    {
      "cell_type": "markdown",
      "metadata": {
        "id": "zxVkatm_zM3b"
      },
      "source": [
        "NumPyの`random.rand()`関数を使うと、0から1までの間の小数をランダムに取得することができます。"
      ]
    },
    {
      "cell_type": "code",
      "metadata": {
        "id": "RHqWbrq8zM3c"
      },
      "source": [
        "import numpy as np\n",
        "\n",
        "r_dec = np.random.rand()   # 0から1の間の小数を、ランダムに返す\n",
        "print(r_dec)"
      ],
      "execution_count": null,
      "outputs": []
    },
    {
      "cell_type": "code",
      "metadata": {
        "id": "HaI-RP4poCPt"
      },
      "source": [
        "# 練習用\n"
      ],
      "execution_count": null,
      "outputs": []
    },
    {
      "cell_type": "markdown",
      "metadata": {
        "id": "fpeCK0IwzM3d"
      },
      "source": [
        "## ●均一な乱数\n",
        "先述の`random.rand()`関数は、0から1の間の小数を均等な確率で返します。この関数に整数`a`を引数として渡すと、そのような小数を`a`個得ることができます。  \n",
        "以下のコードは、多数の均一な乱数をx座標、y座標として、散布図にプロットします。実行することで、`random.rand()`により得られる乱数が均一であることが確認できます。  "
      ]
    },
    {
      "cell_type": "code",
      "metadata": {
        "id": "F6WdR3xQzM3d"
      },
      "source": [
        "import numpy as np\n",
        "import matplotlib.pyplot as plt\n",
        "\n",
        "n = 1000  # サンプル数\n",
        "x = np.random.rand(n)  # 0-1の均一な乱数\n",
        "y = np.random.rand(n)  # 0-1の均一な乱数\n",
        "\n",
        "plt.scatter(x, y)  # 散布図のプロット\n",
        "plt.grid()\n",
        "plt.show()"
      ],
      "execution_count": null,
      "outputs": []
    },
    {
      "cell_type": "code",
      "metadata": {
        "id": "GjmS0L_HoC5e"
      },
      "source": [
        "# 練習用\n"
      ],
      "execution_count": null,
      "outputs": []
    },
    {
      "cell_type": "markdown",
      "metadata": {
        "id": "bHM4Ohb4zM3e"
      },
      "source": [
        "## ●偏った乱数\n",
        "NumPyの`random.randn( )`関数は、後に解説する「正規分布」という分布に従う確率で乱数を返します。正規分布では、中央で確率が高く、両端で確率が低くなります。  \n",
        "以下のコードは、正規分布に従う多数の乱数をx座標、y座標として散布図にプロットします。"
      ]
    },
    {
      "cell_type": "code",
      "metadata": {
        "id": "wEMp3LkYzM3e"
      },
      "source": [
        "import numpy as np\n",
        "import matplotlib.pyplot as plt\n",
        "\n",
        "n = 1000  # サンプル数\n",
        "x = np.random.randn(n)  # 正規分布に従う乱数\n",
        "y = np.random.randn(n)  # 正規分布に従う乱数\n",
        "\n",
        "plt.scatter(x, y)  # 散布図のプロット\n",
        "plt.grid()\n",
        "plt.show()"
      ],
      "execution_count": null,
      "outputs": []
    },
    {
      "cell_type": "code",
      "metadata": {
        "id": "6RmF9fZLoDtk"
      },
      "source": [
        "# 練習用\n"
      ],
      "execution_count": null,
      "outputs": []
    },
    {
      "cell_type": "markdown",
      "metadata": {
        "id": "gy3NkDtzzfie"
      },
      "source": [
        "## ●確率への収束\n",
        "(事象の発生数/試行数)はやがて確率に収束していきます。  \n",
        "以下のコードは、サイコロを何度も振って5が出た回数を数え、(5が出た回数/振った回数)の推移を表示するコードです。  \n",
        "試行を重ねるにつれて、(5が出た回数/試行数)が確率（約16.7%）に収束していくことを確認しましょう。  "
      ]
    },
    {
      "cell_type": "code",
      "metadata": {
        "id": "qAbwSxUuzfie"
      },
      "source": [
        "import numpy as np\n",
        "import matplotlib.pyplot as plt\n",
        "\n",
        "x = []\n",
        "y = []\n",
        "total = 0  # 試行数\n",
        "num_5 = 0  # 5が出た回数\n",
        "n = 10000  # サイコロを振る回数\n",
        "\n",
        "for i in range(n):\n",
        "    \n",
        "    if np.random.randint(6)+1 == 5:  # 0-5までのランダムな数に1を加えて1-6に\n",
        "        num_5 += 1\n",
        "        \n",
        "    total += 1\n",
        "    x.append(i)\n",
        "    y.append(num_5/total)\n",
        "    \n",
        "plt.plot(x, y)\n",
        "plt.plot(x, [1/6]*n, linestyle=\"dashed\")  # yは1/6がn個入ったリスト\n",
        "plt.grid()\n",
        "plt.show()"
      ],
      "execution_count": null,
      "outputs": []
    },
    {
      "cell_type": "code",
      "metadata": {
        "id": "hL-xZXFloEo2"
      },
      "source": [
        "# 練習用\n"
      ],
      "execution_count": null,
      "outputs": []
    },
    {
      "cell_type": "markdown",
      "metadata": {
        "id": "lSnQP5zasJBV"
      },
      "source": [
        "## ●平均値とは？\n",
        "\n",
        "「平均値」は、複数の値の合計値を、値の数で割って求めます。  \n",
        "以下は、$n$個の値の平均値を求める式です。  \n",
        "\n",
        "$$ \\begin{aligned} \\\\\n",
        "\\mu &= \\frac{x_1 + x_2 + \\cdots + x_n}{n} \\\\\n",
        "&= \\frac{1}{n}\\sum_{k=1}^n x_k\n",
        "\\end{aligned} $$\n",
        "\n",
        "例えば、Aさんの体重が60kg、Bさんは40kg、Cさんは55kg、Dさんが45kgであれば、4人の平均体重は以下の通りに計算できます。\n",
        "\n",
        "$$\\frac{60 + 40 + 55 + 44}{4} = 50(kg)$$\n",
        "\n",
        "このような平均値は、複数の値からなるデータの特徴を表す値の1つです。  \n",
        "\n",
        "平均値は、NumPyの`average( )`関数（もしくは`mean( )`関数）により計算することができます。  "
      ]
    },
    {
      "cell_type": "code",
      "metadata": {
        "id": "phBn3M2vsJBW"
      },
      "source": [
        "import numpy as np\n",
        "\n",
        "x = np.array([55, 45, 60, 40])  # 平均をとるデータ\n",
        "\n",
        "print(np.average(x))"
      ],
      "execution_count": null,
      "outputs": []
    },
    {
      "cell_type": "code",
      "metadata": {
        "id": "8VunQz0dSHF2"
      },
      "source": [
        "# 練習用\n"
      ],
      "execution_count": null,
      "outputs": []
    },
    {
      "cell_type": "markdown",
      "metadata": {
        "id": "atuQcJUwBUBK"
      },
      "source": [
        "## ●分散とは？\n",
        "\n",
        "「分散」は値のばらつき具合を表す指標で、以下の$V$で表されます。\n",
        "\n",
        "$$V=\\frac{1}{n}\\sum_{k=1}^n (x_k-\\mu)^2$$\n",
        "\n",
        "この式において、$n$は値の総数、$x_k$は値、$\\mu$は平均値です。  \n",
        "平均値との差を2乗し、平均をとっています。  \n",
        "\n",
        "例えば、Aさんの体重が60kg、Bさんは40kg、Cさんは55kg、Dさんが45kgであれば、分散は以下ように計算されます。\n",
        "\n",
        "$$\\mu = \\frac{60+40+55+45}{4}=50(kg)$$\n",
        "\n",
        "$$V=\\frac{(60-50)^2+(40-50)^2+(55-50)^2+(45-50)^2}{4}=62.5(kg^2)$$\n",
        "\n",
        "次に、Aさんの体重が48kg、Bさんは49kg、Cさんは52kg、Dさんが51kgの場合の分散を計算します。  \n",
        "先程と比べて、値のばらつきが小さくなっています。  \n",
        "\n",
        "$$\\mu = \\frac{48+49+52+51}{4}=50(kg)$$\n",
        "\n",
        "$$V=\\frac{(48-50)^2+(49-50)^2+(52-50)^2+(51-50)^2}{4}=2.5 (kg^2)$$\n",
        "\n",
        "こちらの場合の方が、分散が小さくなっていることが確認できます。  \n",
        "\n",
        "分散は、NumPyの`var( )`関数で計算することができます。  "
      ]
    },
    {
      "cell_type": "code",
      "metadata": {
        "id": "6hPmNus2BUBL"
      },
      "source": [
        "import numpy as np\n",
        "\n",
        "# 分散をとるデータ\n",
        "x_1 = np.array([60, 40, 55, 45]) \n",
        "x_2 = np.array([48, 49, 52, 51]) \n",
        "\n",
        "# 分散の計算\n",
        "print(np.var(x_1))\n",
        "print(np.var(x_2))"
      ],
      "execution_count": null,
      "outputs": []
    },
    {
      "cell_type": "code",
      "metadata": {
        "id": "Sl0M2WfQoRJd"
      },
      "source": [
        "# 練習用\n"
      ],
      "execution_count": null,
      "outputs": []
    },
    {
      "cell_type": "markdown",
      "metadata": {
        "id": "0-vPh7peBUBN"
      },
      "source": [
        "## ●標準偏差とは？\n",
        "\n",
        "「標準偏差」は、分散と同じく値のばらつき具合の指標です。標準偏差$\\sigma$は、以下のように分散の平方根をとることにより求めます。  \n",
        "\n",
        "$$\\sigma = \\sqrt V=\\sqrt{\\frac{1}{n}\\sum_{k=1}^n (x_k-\\mu)^2}$$\n",
        "\n",
        "例えば、Aさんの体重が60kg、Bさんは40kg、Cさんは55kg、Dさんが45kgであれば、標準偏差は以下ように計算されます。\n",
        "\n",
        "$$\\mu = \\frac{60+40+55+45}{4}=50 (kg)$$\n",
        "\n",
        "$$\\sigma=\\sqrt{\\frac{(60-50)^2+(40-50)^2+(55-50)^2+(45-50)^2}{4}}\\fallingdotseq7.91 (kg\n",
        ")$$\n",
        "\n",
        "次は、値のばらつきがより小さいケースです。Aさんの体重が48kg、Bさんは49kg、Cさんは52kg、Dさんが51kgとします。    \n",
        "\n",
        "$$\\mu = \\frac{48+49+52+51}{4}=50(kg)$$\n",
        "\n",
        "$$\\sigma=\\sqrt{\\frac{(48-50)^2+(49-50)^2+(52-50)^2+(51-50)^2}{4}}\\fallingdotseq1.58 (kg\n",
        ")$$\n",
        "\n",
        "こちらのケースの方が、標準偏差が小さくなることが確認できました。  \n",
        "標準偏差は単位の次元がデータと同じなので、値の散らばり具合を直感的に把握する際には標準偏差が適しています。  \n",
        "\n",
        "標準偏差は、NumPyの`std( )`関数を使って計算することができます。"
      ]
    },
    {
      "cell_type": "code",
      "metadata": {
        "id": "lOqht_t2BUBN"
      },
      "source": [
        "import numpy as np\n",
        "\n",
        "# 標準偏差をとるデータ\n",
        "x_1 = np.array([60, 40, 55, 45]) \n",
        "x_2 = np.array([48, 49, 52, 51]) \n",
        "\n",
        "# 標準偏差の計算\n",
        "print(np.std(x_1))\n",
        "print(np.std(x_2))"
      ],
      "execution_count": null,
      "outputs": []
    },
    {
      "cell_type": "code",
      "metadata": {
        "id": "KJZr82KToRpX"
      },
      "source": [
        "# 練習用\n"
      ],
      "execution_count": null,
      "outputs": []
    },
    {
      "cell_type": "markdown",
      "metadata": {
        "id": "lYdvJwhwYv-z"
      },
      "source": [
        "## ●ネイピア数のべき乗\n",
        "ネイピア数$e$は数学的に扱いやすい値なので、分布や確率を扱う際によく使われます。  \n",
        "ネイピア数のべき乗$e^x$は、以下のように$\\exp$を使ってよく表されます。  \n",
        "\n",
        "$$\\exp(x)$$\n",
        "\n",
        "NumPyでは、`np.e`によりネイピア数を取得することができます。また、`np.exp( )`関数によりネイピア数のべき乗を計算することができます。  "
      ]
    },
    {
      "cell_type": "code",
      "metadata": {
        "id": "kaJ0wjwpYzLG"
      },
      "source": [
        "import numpy as np\n",
        "\n",
        "print(np.e)  # ネイピア数\n",
        "print(np.exp(1))  # ネイピア数の1乗\n",
        "print(np.e**2)  # ネイピア数の2乗\n",
        "print(np.exp(2))  # ネイピア数の2乗"
      ],
      "execution_count": null,
      "outputs": []
    },
    {
      "cell_type": "code",
      "metadata": {
        "id": "Dd7TlSdWSTHm"
      },
      "source": [
        "# 練習用\n"
      ],
      "execution_count": null,
      "outputs": []
    },
    {
      "cell_type": "markdown",
      "metadata": {
        "id": "8u5fYTGrbHoX"
      },
      "source": [
        "ネイピア数を使った以下の式により、釣鐘状の曲線を描くことができます。  \n",
        "\n",
        "$$y=\\exp(-x^2)$$\n"
      ]
    },
    {
      "cell_type": "code",
      "metadata": {
        "id": "1d6DnNdaZXFC"
      },
      "source": [
        "import numpy as np\n",
        "import matplotlib.pyplot as plt\n",
        "\n",
        "x = np.linspace(-3, 3)\n",
        "y = np.exp(-x**2)\n",
        "\n",
        "plt.plot(x, y)\n",
        "plt.show()"
      ],
      "execution_count": null,
      "outputs": []
    },
    {
      "cell_type": "code",
      "metadata": {
        "id": "6PAC74jnoTxQ"
      },
      "source": [
        "# 練習用\n"
      ],
      "execution_count": null,
      "outputs": []
    },
    {
      "cell_type": "markdown",
      "metadata": {
        "id": "-UqMPdhmbxHZ"
      },
      "source": [
        "このような釣鐘状の曲線が、正規分布で利用されます。  "
      ]
    },
    {
      "cell_type": "markdown",
      "metadata": {
        "id": "jXCvN0c9OUGK"
      },
      "source": [
        "## ●正規分布とは？\n",
        "\n",
        "「正規分布」（normal distribution）は、自然界の様々な現象に対してよく当てはまるデータの分布です。  \n",
        "例えば、身長や体重、テストの成績、工業製品のサイズなどは正規分布におおよそ従います。  \n",
        "\n",
        "正規分布において、ある値$x$が得られる確率$f(x)$は、以下の確率密度関数と呼ばれる関数で表されます。  \n",
        "\n",
        "$$ f(x)=\\frac{1}{ \\sigma\\sqrt{2\\pi}}\\exp(-\\frac{(x-\\mu)^2}{2\\sigma ^2}) $$ \n",
        "\n",
        "ここで、$\\mu$は平均値で分布の中央となり、$\\sigma$は標準偏差で分布の広がり具合を表します。  \n",
        "\n",
        "上記の式は少々複雑ですが、平均値を0、標準偏差を1とすると以下のように比較的シンプルな形になります。\n",
        "\n",
        "$$ f(x)=\\frac{1}{\\sqrt{2\\pi}}\\exp(-\\frac{x^2}{2}) $$ \n",
        "\n",
        "それでは、確率密度関数を使って正規分布の曲線を描画しましょう。平均値は0に固定し、標準偏差を3通りにして3つの曲線を描画します。  "
      ]
    },
    {
      "cell_type": "code",
      "metadata": {
        "id": "RQy5-Cy9OUGL"
      },
      "source": [
        "import numpy as np\n",
        "import matplotlib.pyplot as plt\n",
        "\n",
        "def pdf(x, mu, sigma):  # mu: 平均値  sigma: 標準偏差\n",
        "    return 1/(sigma*np.sqrt(2*np.pi))*np.exp(-(x-mu)**2 / (2*sigma**2))  # 確率密度関数\n",
        "\n",
        "x = np.linspace(-5, 5)\n",
        "y_1 = pdf(x, 0.0, 0.5)  # 平均値が0で標準偏差が0.5\n",
        "y_2 = pdf(x, 0.0, 1.0)  # 平均値が0で標準偏差が1\n",
        "y_3 = pdf(x, 0.0, 2.0)  # 平均値が0で標準偏差が2\n",
        "\n",
        "plt.plot(x, y_1, label=\"σ: 0.5\")\n",
        "plt.plot(x, y_2, label=\"σ: 1.0\")\n",
        "plt.plot(x, y_3, label=\"σ: 2.0\")\n",
        "plt.legend()\n",
        "\n",
        "plt.xlabel(\"x\")\n",
        "plt.ylabel(\"y\")\n",
        "plt.grid()\n",
        "\n",
        "plt.show()"
      ],
      "execution_count": null,
      "outputs": []
    },
    {
      "cell_type": "code",
      "metadata": {
        "id": "T2RPnok9oVYI"
      },
      "source": [
        "# 練習用\n"
      ],
      "execution_count": null,
      "outputs": []
    },
    {
      "cell_type": "markdown",
      "metadata": {
        "id": "qe6x2mX6OUGN"
      },
      "source": [
        "標準偏差は値のばらつき具合を表すのですが、これが小さいと曲線の幅が狭くなり、大きいと幅が広くなります。  \n",
        "また、正規分布の曲線とx軸に挟まれた領域の面積は1になります。これは、確率の総和が1であることに対応します。"
      ]
    },
    {
      "cell_type": "markdown",
      "metadata": {
        "id": "Qgdcw_hzOUGO"
      },
      "source": [
        "## ●正規分布に従う乱数\n",
        "正規分布に従う乱数は、NumPyの`random.normal( )`関数を使って生成することがます。  \n",
        "以下のコードは、生成されたデータの分布をmatplotlibの`hist( )`関数でヒストグラムとして表示します。  "
      ]
    },
    {
      "cell_type": "code",
      "metadata": {
        "id": "ZQ-ezpkwOUGO"
      },
      "source": [
        "import numpy as np\n",
        "import matplotlib.pyplot as plt\n",
        " \n",
        "# 正規分布に従う乱数を生成\n",
        "s = np.random.normal(0, 1, 10000)  # 平均0、標準偏差1、10000個\n",
        "\n",
        "# ヒストグラム\n",
        "plt.hist(s, bins=25)  # binsは棒の数\n",
        "\n",
        "plt.xlabel(\"x\", size=14)\n",
        "plt.grid()\n",
        "\n",
        "plt.show()"
      ],
      "execution_count": null,
      "outputs": []
    },
    {
      "cell_type": "code",
      "metadata": {
        "id": "GXF8x_XSoWJ7"
      },
      "source": [
        "# 練習用\n"
      ],
      "execution_count": null,
      "outputs": []
    },
    {
      "cell_type": "markdown",
      "metadata": {
        "id": "Arcz8DwnOUGO"
      },
      "source": [
        "生成されたデータの分布は、釣鐘状の形状となりました。確率密度関数の形状とほぼ同じですね。"
      ]
    },
    {
      "cell_type": "markdown",
      "metadata": {
        "id": "4KsWAUtRcrgD"
      },
      "source": [
        "## ●共分散とは？\n",
        "\n",
        "共分散は、2つのデータ間の関係を表す指標の1つです。\n",
        "\n",
        "$X$、$Y$、2組のデータを、以下のように考えます。両者とも、データの個数は$n$とします。\n",
        "\n",
        "$$X=x_1,x_2,\\cdots ,x_n$$\n",
        "$$Y=y_1,y_2,\\cdots ,y_n$$\n",
        "\n",
        "これらの共分散$Cov(X,Y)$は、以下の式で表されます。\n",
        "\n",
        "（式 1）\n",
        "$$Cov(X,Y)=\\frac{1}{n}\\sum_{k=1}^n (x_k-\\mu_x)(y_k-\\mu_y)$$\n",
        "\n",
        "$\\mu_x$は$X$の平均、$\\mu_y$は$Y$の平均になります。\n",
        "  \n",
        "共分散の意味は、概ね以下のようになります。  \n",
        "\n",
        "\n",
        "---\n",
        "\n",
        "共分散が0より大きい → Xが大きいとYも大きい、Xが小さいとYも小さい傾向がある  \n",
        "共分散が 0 に近い → XとYにあまり関係はない  \n",
        "共分散が0より小さい → Xが大きいとYは小さい、Xが小さいとYは大きい傾向がある  \n",
        "\n",
        "---\n",
        "\n",
        "\n",
        "以下に、共分散の例を挙げます。  \n",
        "$X$を5人の生徒の英語の点数、$Y$を同じ生徒の国語の点数とします。\n",
        "\n",
        "$$X=50, 70, 40, 60, 80$$\n",
        "$$Y=60, 80, 50, 50, 70$$\n",
        "\n",
        "両者ともにデータの個数は5なので、$X$と$Y$の平均値は以下のようにして計算できます。\n",
        "\n",
        "$$\\mu_x = \\frac{50+70+40+60+80}{5} = 60$$\n",
        "$$\\mu_y = \\frac{60+80+50+50+70}{5} = 62$$\n",
        "\n",
        "このとき、共分散は（式 1）を使って以下のように計算することができます。\n",
        "\n",
        "$$ \\begin{aligned} \\\\\n",
        "Cov(X,Y) &= \\frac{(50-60)(60-62)+(70-60)(80-62)+(40-60)(50-62)+(60-60)(50-62)+(80-60)(70-62)}{5} \\\\\n",
        "& = 120\n",
        "\\end{aligned} $$\n",
        "\n",
        "この場合の共分散は、120となりました。これは、英語の点数が高いと国語の点数も高くなる傾向があることを意味します。\n",
        "\n",
        "別の例を考えましょう。以下の$X$を英語の点数、$Z$を体育の点数とします。\n",
        "\n",
        "$$X=50, 70, 40, 60, 80$$\n",
        "$$Z=60, 40, 60, 40, 30$$\n",
        "\n",
        "両者ともにデータの個数は5なので、$X$と$Z$の平均値は以下のように計算できます。\n",
        "\n",
        "$$\\mu_x = \\frac{50+70+40+60+80}{5} = 60$$\n",
        "$$\\mu_z = \\frac{60+40+60+40+30}{5} = 46$$\n",
        "\n",
        "このときの共分散は、（式 1）を使って以下のように計算できます。\n",
        "\n",
        "$$ \\begin{aligned} \\\\\n",
        "Cov(X,Z) &= \\frac{(50-60)(60-46)+(70-60)(40-46)+(40-60)(60-46)+(60-60)(40-46)+(80-60)(30-46)}{5} \\\\\n",
        "& = -160\n",
        "\\end{aligned} $$\n",
        "\n",
        "この場合、共分散は-160となりました。これは、英語の点数が高いと体育の点数が低くなる傾向があることを意味します。  "
      ]
    },
    {
      "cell_type": "markdown",
      "metadata": {
        "id": "IMuirqA-c0TI"
      },
      "source": [
        "## ●相関係数とは？\n",
        "\n",
        "相関係数は、2つのデータの関係の強さを-1から1の範囲で表します。    \n",
        "\n",
        "$X$、$Y$、2組のデータを考えます。両者ともに、データの個数は$n$とします。\n",
        "\n",
        "$$X=x_1,x_2,\\cdots ,x_n$$\n",
        "$$Y=y_1,y_2,\\cdots ,y_n$$\n",
        "\n",
        "これらの間の相関係数$\\rho$は、共分散$Cov(X,Y)$と、XとYそれぞれの標準偏差$\\sigma_X$、$\\sigma_Y$を使って以下のように表されます。\n",
        "\n",
        "（式 2）\n",
        "$$\\rho=\\frac{Cov(X,Y)}{\\sigma_X\\sigma_Y}$$\n",
        "\n",
        "この相関係数$\\rho$の範囲は、$-1\\leqq \\rho \\leqq 1$です。\n",
        "\n",
        "$\\rho$が1に近づくと、正の相関が強くなります。  \n",
        "$\\rho$が0の場合、XとYには相関がありません。  \n",
        "$\\rho$が-1に近づくと、負の相関が強くなります。  \n",
        "\n",
        "相関係数は共分散と似ていますが、$\\rho$の範囲が$-1\\leqq \\rho \\leqq 1$に収まるため、両者の関係の強さを直感的に把握しやすいのがメリットです。\n",
        "\n",
        "相関係数の例を挙げましょう。$X$を英語の点数、$Y$を国語の点数とします。\n",
        "\n",
        "$$X=50, 70, 40, 60, 80$$\n",
        "$$Y=60, 80, 50, 50, 70$$\n",
        "\n",
        "$X$と$Y$の共分散、およびそれぞれの標準偏差は以下の通りに計算できます。  \n",
        "\n",
        "$$Cov(X,Y) = 120$$\n",
        "$$\\sigma_X = 14.14...$$\n",
        "$$\\sigma_Y = 11.66...$$\n",
        "\n",
        "このときの相関係数は（式 2）により以下のように計算できます。\n",
        "\n",
        "$$ \\begin{aligned} \\\\\n",
        "\\rho &= \\frac{Cov(X,Y)}{\\sigma_X\\sigma_Y} \\\\\n",
        "&= \\frac{120}{14.14...\\times 11.66...} \\\\\n",
        "&= 0.7276...\n",
        "\\end{aligned} $$\n",
        "\n",
        "この場合の相関係数は、約0.728となりました。これは、英語の点数が高いと国語の点数も高くなる傾向があることを意味します。\n",
        "\n",
        "別の例を挙げましょう。以下の$X$を英語の点数、$Z$を体育の点数とします。\n",
        "\n",
        "$$X=50, 70, 40, 60, 80$$\n",
        "$$Z=60, 40, 60, 40, 30$$\n",
        "\n",
        "このとき、$X$と$Y$の共分散、およびそれぞれの標準偏差は以下の通りに計算できます。    \n",
        "\n",
        "$$Cov(X,Y) = -160$$\n",
        "$$\\sigma_X = 14.14...$$\n",
        "$$\\sigma_Z = 12.0$$\n",
        "\n",
        "このとき、相関係数は（式 2）により以下の通りに計算できます。\n",
        "\n",
        "$$ \\begin{aligned} \\\\\n",
        "\\rho &= \\frac{Cov(X,Y)}{\\sigma_X\\sigma_Y} \\\\\n",
        "&= \\frac{-160}{14.14...\\times 12.0} \\\\\n",
        "&= -0.9428...\n",
        "\\end{aligned} $$\n",
        "\n",
        "この場合の相関係数は、約-0.943です。強い負の相関があり、英語の点数が高いと体育の点数が大きく下がるようです。  "
      ]
    },
    {
      "cell_type": "markdown",
      "metadata": {
        "id": "xh-AUP8Dc0TK"
      },
      "source": [
        "## ●相関係数の計算\n",
        "相関係数は、以下のようにNumPyの`corrcoef( )`関数を使って計算することができます。  \n",
        "`corrcoef( )`関数の結果は2x2の行列として得られますが、右上と左下の要素が相関係数です。  "
      ]
    },
    {
      "cell_type": "code",
      "metadata": {
        "id": "QFb3F2YFc0TL"
      },
      "source": [
        "import numpy as np\n",
        "import matplotlib.pyplot as plt\n",
        " \n",
        "x = np.array([50, 70, 40, 60, 80])  # 英語の点数\n",
        "y = np.array([60, 80, 50, 50, 70])  # 国語の点数\n",
        "\n",
        "print(\"--- 相関係数: corrcoef関数を使用 ---\")\n",
        "print(np.corrcoef(x, y))  # 相関係数\n",
        "\n",
        "plt.scatter(x, y)\n",
        "\n",
        "plt.xlabel(\"x\", size=14)\n",
        "plt.ylabel(\"y\", size=14)\n",
        "plt.grid()\n",
        "\n",
        "plt.show()"
      ],
      "execution_count": null,
      "outputs": []
    },
    {
      "cell_type": "code",
      "metadata": {
        "id": "zjaSCsR2Svy4"
      },
      "source": [
        "# 練習用\n"
      ],
      "execution_count": null,
      "outputs": []
    },
    {
      "cell_type": "markdown",
      "source": [
        "## ●演習\n",
        "matplotlibの散布図によりデータを可視化し、NumPyで相関係数を計算しましょう。  \n",
        "以下のセルにコードを追記してください。  "
      ],
      "metadata": {
        "id": "i5ARLH-SPRsV"
      }
    },
    {
      "cell_type": "code",
      "source": [
        "import numpy as np\n",
        "import matplotlib.pyplot as plt\n",
        "\n",
        "n = 1000  # サンプル数\n",
        "x = np.random.randn(n)  # 正規分布に従う乱数\n",
        "y = 0.5*x + np.random.randn(n)  # 正規分布に従う乱数\n",
        "\n",
        "plt.  # ←ここにコードを追記: 散布図のプロット\n",
        "plt.grid()\n",
        "plt.xlabel(\"x\")\n",
        "plt.ylabel(\"y\")\n",
        "plt.show()\n",
        "\n",
        "print(\"--- 相関係数 ---\")\n",
        "print(np.  # ←ここにコードを追記: 相関係数"
      ],
      "metadata": {
        "id": "On-YgGN_Qasz"
      },
      "execution_count": null,
      "outputs": []
    },
    {
      "cell_type": "markdown",
      "source": [
        "## ●解答例\n",
        "以下は解答例です。  \n",
        "どうしても分からない時、もしくは答え合わせ時に参考にしましょう。"
      ],
      "metadata": {
        "id": "Q_P1_O_FQY7J"
      }
    },
    {
      "cell_type": "code",
      "source": [
        "import numpy as np\n",
        "import matplotlib.pyplot as plt\n",
        "\n",
        "n = 1000  # サンプル数\n",
        "x = np.random.randn(n)  # 正規分布に従う乱数\n",
        "y = 0.5*x + np.random.randn(n)  # 正規分布に従う乱数\n",
        "\n",
        "plt.scatter(x, y)  # ←ここにコードを追記: 散布図のプロット\n",
        "plt.grid()\n",
        "plt.xlabel(\"x\")\n",
        "plt.ylabel(\"y\")\n",
        "plt.show()\n",
        "\n",
        "print(\"--- 相関係数 ---\")\n",
        "print(np.corrcoef(x, y))  # ←ここにコードを追記: 相関係数"
      ],
      "metadata": {
        "id": "R4iP50DMP3Cr"
      },
      "execution_count": null,
      "outputs": []
    }
  ]
}