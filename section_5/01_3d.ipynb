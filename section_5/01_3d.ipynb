{
  "nbformat": 4,
  "nbformat_minor": 0,
  "metadata": {
    "colab": {
      "name": "01_3d.ipynb",
      "provenance": [],
      "collapsed_sections": [],
      "authorship_tag": "ABX9TyO4hHpy5zy+wXLEHjG/Sy7i",
      "include_colab_link": true
    },
    "kernelspec": {
      "name": "python3",
      "display_name": "Python 3"
    },
    "language_info": {
      "name": "python"
    }
  },
  "cells": [
    {
      "cell_type": "markdown",
      "metadata": {
        "id": "view-in-github",
        "colab_type": "text"
      },
      "source": [
        "<a href=\"https://colab.research.google.com/github/yukinaga/numpy_matplotlib/blob/main/section_5/01_3d.ipynb\" target=\"_parent\"><img src=\"https://colab.research.google.com/assets/colab-badge.svg\" alt=\"Open In Colab\"/></a>"
      ]
    },
    {
      "cell_type": "markdown",
      "metadata": {
        "id": "q5OmvSsgkb4C"
      },
      "source": [
        "# 3Dグラフの描画\n",
        "matplotlibを使い、様々な3Dグラフを描画します。  \n"
      ]
    },
    {
      "cell_type": "markdown",
      "metadata": {
        "id": "LoISGl864sy9"
      },
      "source": [
        "## ●3D曲線の描画\n",
        "パラメータ`t`と3つの座標を紐づけた「パラメトリック曲線」を描画します。"
      ]
    },
    {
      "cell_type": "code",
      "execution_count": null,
      "metadata": {
        "id": "Id-hGic6ZqGS"
      },
      "outputs": [],
      "source": [
        "import numpy as np\n",
        "import matplotlib.pyplot as plt\n",
        "\n",
        "fig = plt.figure(figsize=(10, 10))  # 表示領域のサイズ\n",
        "ax = fig.add_subplot(projection=\"3d\")  # 3Dを指定\n",
        "\n",
        "# パラメータ\n",
        "t = np.linspace(-5*np.pi, 5*np.pi, 200)\n",
        "\n",
        "# 各座標\n",
        "x_1 = np.linspace(-4, 0, 200)\n",
        "y_1 = (x_1**2+1) * np.sin(t)\n",
        "z_1 = (x_1**2+1) * np.cos(t)\n",
        "\n",
        "x_2 = np.linspace(0, 4, 200)\n",
        "y_2 = (x_2**2+1) * np.sin(t)\n",
        "z_2 = (x_2**2+1) * np.cos(t)\n",
        "\n",
        "ax.plot(x_1, y_1, z_1, label=\"Curve_1\")\n",
        "ax.plot(x_2, y_2, z_2, label=\"Curve_2\")\n",
        "ax.legend()\n",
        "\n",
        "plt.show()"
      ]
    },
    {
      "cell_type": "code",
      "metadata": {
        "id": "LuJ_3Y1A-_bC"
      },
      "source": [
        "# 練習用\n"
      ],
      "execution_count": null,
      "outputs": []
    },
    {
      "cell_type": "markdown",
      "metadata": {
        "id": "vtGUtn1FknIE"
      },
      "source": [
        "## ●3D曲面の描画\n",
        "3D曲面をカラーで描画し、カラーマップを表示します。"
      ]
    },
    {
      "cell_type": "code",
      "metadata": {
        "id": "sQ1S5UNy-rpY"
      },
      "source": [
        "import numpy as np\n",
        "import matplotlib.pyplot as plt\n",
        "from matplotlib import cm\n",
        "\n",
        "fig = plt.figure(figsize=(16, 10))  # 表示領域のサイズ\n",
        "ax = fig.add_subplot(projection=\"3d\")  # 3Dを指定\n",
        "\n",
        "# 各座標\n",
        "range = 6\n",
        "x, y = np.meshgrid(np.arange(-range, range, 0.1),\n",
        "                   np.arange(-range, range, 0.1))\n",
        "r = np.sqrt(x**2 + y**2)\n",
        "z = np.sin(r)\n",
        "\n",
        "# 曲面のプロット\n",
        "surface = ax.plot_surface(x, y, z, cmap=cm.seismic)\n",
        "\n",
        "# カラーバーの追加\n",
        "fig.colorbar(surface)\n",
        "\n",
        "plt.show()"
      ],
      "execution_count": null,
      "outputs": []
    },
    {
      "cell_type": "code",
      "metadata": {
        "id": "5p8aqzdVknIE"
      },
      "source": [
        "# 練習用\n"
      ],
      "execution_count": null,
      "outputs": []
    },
    {
      "cell_type": "markdown",
      "source": [
        "## ●演習\n",
        "「3D散布図」を描画しましょう。  \n",
        "以下のドキュメントを参考に、セルにコードを追記してください。  \n",
        "https://matplotlib.org/stable/api/_as_gen/mpl_toolkits.mplot3d.axes3d.Axes3D.html?highlight=scatter%203d#mpl_toolkits.mplot3d.axes3d.Axes3D.scatter  "
      ],
      "metadata": {
        "id": "i5ARLH-SPRsV"
      }
    },
    {
      "cell_type": "code",
      "source": [
        "import numpy as np\n",
        "import matplotlib.pyplot as plt\n",
        "\n",
        "fig = plt.figure(figsize=(10, 10))  # 表示領域のサイズ\n",
        "ax = fig.add_subplot(projection=\"3d\")  # 3Dを指定\n",
        "\n",
        "n = 200  # 点の数\n",
        "\n",
        "# 各座標\n",
        "x_1 = np.random.rand(n) - 0.5\n",
        "y_1 = np.random.rand(n) - 0.5\n",
        "z_1 = np.random.rand(n) - 0.5\n",
        "\n",
        "x_2 = np.random.rand(n) + 0.5\n",
        "y_2 = np.random.rand(n) + 0.5\n",
        "z_2 = np.random.rand(n) + 0.5\n",
        "\n",
        "# 散布図のプロット\n",
        "ax.scatter(  # ←ここにコードを追記:  3D散布図のプロット\n",
        "ax.scatter(  # ←ここにコードを追記:  3D散布図のプロット\n",
        "\n",
        "ax.set_xlabel(\"x\")\n",
        "ax.set_ylabel(\"y\")\n",
        "ax.set_zlabel(\"z\")\n",
        "\n",
        "plt.show()"
      ],
      "metadata": {
        "id": "Yvpo9o00PIgx"
      },
      "execution_count": null,
      "outputs": []
    },
    {
      "cell_type": "markdown",
      "source": [
        "## ●解答例\n",
        "以下は解答例です。  \n",
        "どうしても分からない時、もしくは答え合わせ時に参考にしましょう。"
      ],
      "metadata": {
        "id": "Q_P1_O_FQY7J"
      }
    },
    {
      "cell_type": "code",
      "source": [
        "import numpy as np\n",
        "import matplotlib.pyplot as plt\n",
        "\n",
        "fig = plt.figure(figsize=(10, 10))  # 表示領域のサイズ\n",
        "ax = fig.add_subplot(projection=\"3d\")  # 3Dを指定\n",
        "\n",
        "n = 200  # 点の数\n",
        "\n",
        "# 各座標\n",
        "x_1 = np.random.rand(n) - 0.5\n",
        "y_1 = np.random.rand(n) - 0.5\n",
        "z_1 = np.random.rand(n) - 0.5\n",
        "\n",
        "x_2 = np.random.rand(n) + 0.5\n",
        "y_2 = np.random.rand(n) + 0.5\n",
        "z_2 = np.random.rand(n) + 0.5\n",
        "\n",
        "# 散布図のプロット\n",
        "ax.scatter(x_1, y_1, zs=z_1, marker=\"o\")  # ←ここにコードを追記:  3D散布図のプロット\n",
        "ax.scatter(x_2, y_2, zs=z_2, marker=\"x\")  # ←ここにコードを追記:  3D散布図のプロット\n",
        "\n",
        "ax.set_xlabel(\"x\")\n",
        "ax.set_ylabel(\"y\")\n",
        "ax.set_zlabel(\"z\")\n",
        "\n",
        "plt.show()"
      ],
      "metadata": {
        "id": "R4iP50DMP3Cr"
      },
      "execution_count": null,
      "outputs": []
    }
  ]
}