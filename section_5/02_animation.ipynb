{
  "nbformat": 4,
  "nbformat_minor": 0,
  "metadata": {
    "colab": {
      "name": "02_animation.ipynb",
      "provenance": [],
      "collapsed_sections": [],
      "authorship_tag": "ABX9TyPUsktxgxP84lXfC+rQlJxx",
      "include_colab_link": true
    },
    "kernelspec": {
      "name": "python3",
      "display_name": "Python 3"
    },
    "language_info": {
      "name": "python"
    }
  },
  "cells": [
    {
      "cell_type": "markdown",
      "metadata": {
        "id": "view-in-github",
        "colab_type": "text"
      },
      "source": [
        "<a href=\"https://colab.research.google.com/github/yukinaga/numpy_matplotlib/blob/main/section_5/02_animation.ipynb\" target=\"_parent\"><img src=\"https://colab.research.google.com/assets/colab-badge.svg\" alt=\"Open In Colab\"/></a>"
      ]
    },
    {
      "cell_type": "markdown",
      "metadata": {
        "id": "q5OmvSsgkb4C"
      },
      "source": [
        "# matplotlibによるアニメーション\n",
        "データをアニメーションにより可視化します。  \n"
      ]
    },
    {
      "cell_type": "markdown",
      "metadata": {
        "id": "LoISGl864sy9"
      },
      "source": [
        "## ●アニメーションによる曲線の描画\n",
        "`animation.FuncAnimation()`により曲線をアニメーションで描画します。"
      ]
    },
    {
      "cell_type": "code",
      "execution_count": null,
      "metadata": {
        "id": "Id-hGic6ZqGS"
      },
      "outputs": [],
      "source": [
        "import numpy as np\n",
        "import matplotlib.pyplot as plt\n",
        "from matplotlib import animation, rc\n",
        "\n",
        "fig, ax = plt.subplots()\n",
        "plt.close()  # 余計なグラフは閉じる\n",
        "\n",
        "ax.set_xlim(0, 200)  # 表示範囲\n",
        "ax.set_ylim(-1.2, 1.2)  # 表示範囲\n",
        "ax.grid()\n",
        "\n",
        "line,  = ax.plot([], [])  # 最初は何もプロットしない\n",
        "xs, ys = [], []  # x、y座標の記録\n",
        "\n",
        "x = 0\n",
        "def plot(data):\n",
        "\n",
        "    global x  # xをグローバル変数に\n",
        "    \n",
        "    y = np.sin(np.pi*(x/5)) * (0.5*np.cos(-x/10) + 0.5)  #  振動するsin曲線\n",
        "    x += 1\n",
        "\n",
        "    xs.append(x)\n",
        "    ys.append(y)\n",
        "\n",
        "    line.set_data(xs, ys)  # データの更新\n",
        "\n",
        "    return (line,)\n",
        "\n",
        "anim = animation.FuncAnimation(fig, plot, interval=20, frames=200)\n",
        "rc(\"animation\", html=\"jshtml\")\n",
        "anim"
      ]
    },
    {
      "cell_type": "code",
      "metadata": {
        "id": "LuJ_3Y1A-_bC"
      },
      "source": [
        "# 練習用\n"
      ],
      "execution_count": null,
      "outputs": []
    },
    {
      "cell_type": "markdown",
      "source": [
        "## ●演習\n",
        "以下のコードを実行すると、散布図の点がアニメーションで動きます。  \n",
        "コードに変更を加え、点が移動する軌跡を自由に変更してみましょう。"
      ],
      "metadata": {
        "id": "i5ARLH-SPRsV"
      }
    },
    {
      "cell_type": "code",
      "source": [
        "import numpy as np\n",
        "import matplotlib.pyplot as plt\n",
        "from matplotlib import animation, rc\n",
        "\n",
        "fig, ax = plt.subplots()\n",
        "plt.close()  # 余計なグラフは閉じる\n",
        "\n",
        "ax.set_xlim(0, 200)  # 表示範囲\n",
        "ax.set_ylim(-1.2, 1.2)  # 表示範囲（必要に応じて変更）\n",
        "ax.grid()\n",
        "\n",
        "sc = ax.scatter([], [])  # 最初は何もプロットしない\n",
        "\n",
        "x = 0\n",
        "def plot(data):\n",
        "\n",
        "    global x  # xをグローバル変数に\n",
        "    \n",
        "    y = np.sin(np.pi*(x/5)) * (0.5*np.cos(-x/10) + 0.5)  # ← ここのコードを変更\n",
        "    x += 1\n",
        "\n",
        "    xs.append(x)\n",
        "    ys.append(y)\n",
        "\n",
        "    sc.set_offsets(np.array([[x, y]]))  # データの更新\n",
        "\n",
        "    return (sc,)\n",
        "\n",
        "anim = animation.FuncAnimation(fig, plot, interval=20, frames=200)\n",
        "rc(\"animation\", html=\"jshtml\")\n",
        "anim"
      ],
      "metadata": {
        "id": "Yvpo9o00PIgx"
      },
      "execution_count": null,
      "outputs": []
    },
    {
      "cell_type": "markdown",
      "source": [
        "## ●解答例\n",
        "以下は解答例です。  \n",
        "一例として参考にしてください。"
      ],
      "metadata": {
        "id": "Q_P1_O_FQY7J"
      }
    },
    {
      "cell_type": "code",
      "source": [
        "import numpy as np\n",
        "import matplotlib.pyplot as plt\n",
        "from matplotlib import animation, rc\n",
        "\n",
        "fig, ax = plt.subplots()\n",
        "plt.close()  # 余計なグラフは閉じる\n",
        "\n",
        "ax.set_xlim(0, 200)  # 表示範囲\n",
        "ax.set_ylim(-2.4, 2.4)  # 表示範囲（必要に応じて変更）\n",
        "ax.grid()\n",
        "\n",
        "sc = ax.scatter([], [])  # 最初は何もプロットしない\n",
        "\n",
        "x = 0\n",
        "def plot(data):\n",
        "\n",
        "    global x  # xをグローバル変数に\n",
        "    \n",
        "    y = np.sin(np.pi*(x/10)) * (0.5*np.cos(-x/10) + 0.5) + np.sin(x/10)  # ← ここのコードを変更\n",
        "    x += 1\n",
        "\n",
        "    xs.append(x)\n",
        "    ys.append(y)\n",
        "\n",
        "    sc.set_offsets(np.array([[x, y]]))  # データの更新\n",
        "\n",
        "    return (sc,)\n",
        "\n",
        "anim = animation.FuncAnimation(fig, plot, interval=20, frames=200)\n",
        "rc(\"animation\", html=\"jshtml\")\n",
        "anim"
      ],
      "metadata": {
        "id": "R4iP50DMP3Cr"
      },
      "execution_count": null,
      "outputs": []
    }
  ]
}