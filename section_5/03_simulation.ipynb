{
  "nbformat": 4,
  "nbformat_minor": 0,
  "metadata": {
    "colab": {
      "name": "03_simulation.ipynb",
      "provenance": [],
      "collapsed_sections": [],
      "authorship_tag": "ABX9TyOSGQ4xhB52K1dFbkSQCpzX",
      "include_colab_link": true
    },
    "kernelspec": {
      "name": "python3",
      "display_name": "Python 3"
    },
    "language_info": {
      "name": "python"
    }
  },
  "cells": [
    {
      "cell_type": "markdown",
      "metadata": {
        "id": "view-in-github",
        "colab_type": "text"
      },
      "source": [
        "<a href=\"https://colab.research.google.com/github/yukinaga/numpy_matplotlib/blob/main/section_5/03_simulation.ipynb\" target=\"_parent\"><img src=\"https://colab.research.google.com/assets/colab-badge.svg\" alt=\"Open In Colab\"/></a>"
      ]
    },
    {
      "cell_type": "markdown",
      "metadata": {
        "id": "q5OmvSsgkb4C"
      },
      "source": [
        "# matplotlibによるシミュレーション\n",
        "matplotlibを自然現象のシミュレーションに利用します。 \n"
      ]
    },
    {
      "cell_type": "markdown",
      "metadata": {
        "id": "LoISGl864sy9"
      },
      "source": [
        "## ●水滴のシミュレーション\n",
        "水面に雨粒が当たる様子をシミュレートします。  \n",
        "以下のコードは、matplotlibの公式サンプルコードを参考にしています。  \n",
        "https://matplotlib.org/stable/gallery/animation/rain.html#sphx-glr-gallery-animation-rain-py"
      ]
    },
    {
      "cell_type": "code",
      "execution_count": null,
      "metadata": {
        "id": "Id-hGic6ZqGS"
      },
      "outputs": [],
      "source": [
        "import numpy as np\n",
        "import matplotlib.pyplot as plt\n",
        "from matplotlib import animation, rc\n",
        "\n",
        "fig = plt.figure(figsize=(10, 10))\n",
        "\n",
        "plt.close()  # 余計なグラフは閉じる\n",
        "ax = fig.add_axes([0, 0, 1, 1])  #  [left, bottom, width, height]\n",
        "ax.axis(\"off\")\n",
        "\n",
        "n = 100  # 雨粒の数\n",
        "\n",
        "position_x = np.random.uniform(0, 1, n)  # x座標\n",
        "position_y = np.random.uniform(0, 1, n)  # y座標\n",
        "size = np.zeros(n)  # 水滴のサイズ\n",
        "rate = np.random.uniform(50, 200, n)  #  水滴が広がる速度\n",
        "color = np.zeros((n, 4))  # エッジの色\n",
        "\n",
        "# 散布図の初期設定\n",
        "sc = ax.scatter(position_x, position_y, s=size,\n",
        "                edgecolors=color, facecolors=\"none\")\n",
        "\n",
        "def update(i_frame):\n",
        "\n",
        "    color[:, 3] -= 0.05  # 少しだけ透明に\n",
        "    color[:, 3] = np.clip(color[:, 3], 0, 1)  # 透明度を0から1の範囲に納める\n",
        "\n",
        "    size[:] += rate[:]  # サイズを大きくする\n",
        "\n",
        "    # 雨粒の初期化\n",
        "    i = i_frame % n\n",
        "    position_x[i] = np.random.uniform(0, 1)\n",
        "    position_y[i] = np.random.uniform(0, 1)\n",
        "    size[i] = 5\n",
        "    color[i] = (0, 0, 0, 1)\n",
        "    rate[i] = np.random.uniform(50, 200)\n",
        "\n",
        "    sc.set_edgecolors(color)  # エッジの色を設定\n",
        "    sc.set_sizes(size)  # サイズを設定\n",
        "    sc.set_offsets(np.stack([position_x, position_y], axis=1))  # 位置を設定\n",
        "\n",
        "anim = animation.FuncAnimation(fig, update, interval=50, frames=100)\n",
        "rc(\"animation\", html=\"jshtml\")\n",
        "anim"
      ]
    },
    {
      "cell_type": "code",
      "metadata": {
        "id": "LuJ_3Y1A-_bC"
      },
      "source": [
        "# 練習用\n"
      ],
      "execution_count": null,
      "outputs": []
    },
    {
      "cell_type": "markdown",
      "source": [
        "## ●演習\n",
        "上記のシミュレーションのパラメータを変更し、シミュレーションの結果がどう変化するのか確かめてみましょう。"
      ],
      "metadata": {
        "id": "i5ARLH-SPRsV"
      }
    }
  ]
}