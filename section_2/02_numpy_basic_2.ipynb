{
  "nbformat": 4,
  "nbformat_minor": 0,
  "metadata": {
    "kernelspec": {
      "display_name": "Python 3",
      "language": "python",
      "name": "python3"
    },
    "language_info": {
      "codemirror_mode": {
        "name": "ipython",
        "version": 3
      },
      "file_extension": ".py",
      "mimetype": "text/x-python",
      "name": "python",
      "nbconvert_exporter": "python",
      "pygments_lexer": "ipython3",
      "version": "3.5.4"
    },
    "colab": {
      "name": "02_numpy_basic_2.ipynb",
      "provenance": [],
      "collapsed_sections": [],
      "include_colab_link": true
    }
  },
  "cells": [
    {
      "cell_type": "markdown",
      "metadata": {
        "id": "view-in-github",
        "colab_type": "text"
      },
      "source": [
        "<a href=\"https://colab.research.google.com/github/yukinaga/numpy_matplotlib/blob/main/section_2/02_numpy_basic_2.ipynb\" target=\"_parent\"><img src=\"https://colab.research.google.com/assets/colab-badge.svg\" alt=\"Open In Colab\"/></a>"
      ]
    },
    {
      "cell_type": "markdown",
      "metadata": {
        "id": "8PEI59mRTLnr"
      },
      "source": [
        "# NumPyの基礎2\n",
        "NumPyの基礎として、以下を学びます。\n",
        "* 配列を生成する様々な関数\n",
        "* 形状の変換"
      ]
    },
    {
      "cell_type": "markdown",
      "metadata": {
        "id": "SmXcsEQx-uDp"
      },
      "source": [
        "## ●配列を生成する様々な関数\n",
        "array関数の他にも、NumPyには配列を生成する関数がいくつか用意されています。  \n",
        "以下のコードでは、要素が全て0.0の配列、要素が全て1.0の配列、要素が全て乱数の配列を生成する関数を使っています。  "
      ]
    },
    {
      "cell_type": "code",
      "metadata": {
        "id": "jxwwQ1wM-uDq"
      },
      "source": [
        "import numpy as np\n",
        "\n",
        "print(np.zeros(10))\n",
        "print(np.ones(10))\n",
        "print(np.random.rand(10))"
      ],
      "execution_count": null,
      "outputs": []
    },
    {
      "cell_type": "code",
      "metadata": {
        "id": "XkeFy2S1nndR"
      },
      "source": [
        "# 練習用\n"
      ],
      "execution_count": null,
      "outputs": []
    },
    {
      "cell_type": "markdown",
      "source": [
        "このうち、zeros関数とones関数は引数にタプルを指定することができます。  \n",
        "これにより生成される配列は、このタプルの形状の多次元配列になります。"
      ],
      "metadata": {
        "id": "fzCQjfbV_sNO"
      }
    },
    {
      "cell_type": "code",
      "metadata": {
        "id": "iShlNPw5AGp_"
      },
      "source": [
        "import numpy as np\n",
        "\n",
        "print(np.zeros((2, 3)))\n",
        "print(np.ones((2, 3)))"
      ],
      "execution_count": null,
      "outputs": []
    },
    {
      "cell_type": "code",
      "metadata": {
        "id": "WG0C_YJjAGp_"
      },
      "source": [
        "# 練習用\n"
      ],
      "execution_count": null,
      "outputs": []
    },
    {
      "cell_type": "markdown",
      "source": [
        "arange関数を用いると、連続した数値を要素に持つ配列を作ることができます。  \n",
        "以下の例では、0から1の手前まで0.1刻みの値が格納された配列を生成しています。"
      ],
      "metadata": {
        "id": "NB_FudGcAUFa"
      }
    },
    {
      "cell_type": "code",
      "metadata": {
        "id": "Re3M8sOOAbjr"
      },
      "source": [
        "import numpy as np\n",
        "\n",
        "print(np.arange(0, 1, 0.1))"
      ],
      "execution_count": null,
      "outputs": []
    },
    {
      "cell_type": "code",
      "metadata": {
        "id": "CuiQXSidAbjs"
      },
      "source": [
        "# 練習用\n"
      ],
      "execution_count": null,
      "outputs": []
    },
    {
      "cell_type": "markdown",
      "source": [
        "開始する値と刻み幅を省略すると、開始する値は0になり、刻み幅は1になります。"
      ],
      "metadata": {
        "id": "aTuMlrYkAg2g"
      }
    },
    {
      "cell_type": "code",
      "metadata": {
        "id": "CJYdhZtPHl9a"
      },
      "source": [
        "import numpy as np\n",
        "\n",
        "print(np.arange(10))"
      ],
      "execution_count": null,
      "outputs": []
    },
    {
      "cell_type": "code",
      "metadata": {
        "id": "aAVp2MsjHl9b"
      },
      "source": [
        "# 練習用\n"
      ],
      "execution_count": null,
      "outputs": []
    },
    {
      "cell_type": "markdown",
      "source": [
        "arange関数と似た関数に、linspace関数があります。  \n",
        "以下の例では、linspace関数を用いて、0から1までの要素数が11個の配列を生成しています。"
      ],
      "metadata": {
        "id": "vFHB7XJ8H-vT"
      }
    },
    {
      "cell_type": "code",
      "metadata": {
        "id": "1ckBLH27H-vU"
      },
      "source": [
        "import numpy as np\n",
        "\n",
        "print(np.linspace(0, 1, 11))"
      ],
      "execution_count": null,
      "outputs": []
    },
    {
      "cell_type": "code",
      "metadata": {
        "id": "Dl7c9cBsH-vU"
      },
      "source": [
        "# 練習用\n"
      ],
      "execution_count": null,
      "outputs": []
    },
    {
      "cell_type": "markdown",
      "source": [
        "linspace関数の第3引数は省略できますが、省略すると配列の要素数は50になります。  "
      ],
      "metadata": {
        "id": "8ibL4sAaIRaE"
      }
    },
    {
      "cell_type": "code",
      "metadata": {
        "id": "uJOR0jcoIRaF"
      },
      "source": [
        "import numpy as np\n",
        "\n",
        "print(np.linspace(0, 1))"
      ],
      "execution_count": null,
      "outputs": []
    },
    {
      "cell_type": "code",
      "metadata": {
        "id": "EgZkVzqfIRaF"
      },
      "source": [
        "# 練習用\n"
      ],
      "execution_count": null,
      "outputs": []
    },
    {
      "cell_type": "markdown",
      "source": [
        "linspace関数は、matplotlibのグラフにおいて横軸の値を表現するのによく用いられます。"
      ],
      "metadata": {
        "id": "ZjxrpwDVJFbm"
      }
    },
    {
      "cell_type": "markdown",
      "metadata": {
        "id": "_MgpaIvqTLoE"
      },
      "source": [
        "## ●形状の変換\n",
        "NumPyのshapeメソッドにより、配列の形状を得ることができます。  "
      ]
    },
    {
      "cell_type": "code",
      "metadata": {
        "id": "2A-NU9z1TLoE"
      },
      "source": [
        "import numpy as np\n",
        "\n",
        "a = np.array([[0, 1, 2],\n",
        "              [3, 4, 5]])\n",
        "\n",
        "print(a.shape)"
      ],
      "execution_count": null,
      "outputs": []
    },
    {
      "cell_type": "code",
      "metadata": {
        "id": "rUpoYOCirX2O"
      },
      "source": [
        "# 練習用\n"
      ],
      "execution_count": null,
      "outputs": []
    },
    {
      "cell_type": "markdown",
      "metadata": {
        "id": "PsdkpN7UTLoG"
      },
      "source": [
        "reshapeメソッドを使うと、配列の形状を変換することができます。  \n",
        "以下の例では、要素数が8の1次元配列を 形状が(2, 4)の2次元配列に変換しています。  "
      ]
    },
    {
      "cell_type": "code",
      "metadata": {
        "id": "onsdEGMSTLoH"
      },
      "source": [
        "b = np.array([0, 1, 2, 3, 4, 5, 6, 7])  # 配列の作成\n",
        "c = b.reshape(2, 4)  # (2, 4)の2次元配列に変換\n",
        "print(c)"
      ],
      "execution_count": null,
      "outputs": []
    },
    {
      "cell_type": "code",
      "metadata": {
        "id": "4V0W411ZrYcm"
      },
      "source": [
        "# 練習用\n"
      ],
      "execution_count": null,
      "outputs": []
    },
    {
      "cell_type": "markdown",
      "source": [
        "例えば、以下のように2次元配列を3次元配列に変換することもできます。  \n",
        "要素数は2x2x2=8なので変わりません。  "
      ],
      "metadata": {
        "id": "kPw4B0PhJ63G"
      }
    },
    {
      "cell_type": "code",
      "metadata": {
        "id": "Ve18Izn7J_uO"
      },
      "source": [
        "d = c.reshape(2, 2, 2)  # (2, 2, 2)の3次元配列に変換\n",
        "print(d)"
      ],
      "execution_count": null,
      "outputs": []
    },
    {
      "cell_type": "code",
      "metadata": {
        "id": "EFKqpGLbJ_uP"
      },
      "source": [
        "# 練習用\n"
      ],
      "execution_count": null,
      "outputs": []
    },
    {
      "cell_type": "markdown",
      "metadata": {
        "id": "99Rq7OhTTLoJ"
      },
      "source": [
        "このように、トータルの要素数さえ合っていればどのような形状にでもreshapeで変換することができます。  \n",
        "また、reshapeの引数を-1にすることで、どのような形状の配列でも1次元配列に変換することができます。"
      ]
    },
    {
      "cell_type": "code",
      "metadata": {
        "id": "_YZ2URRNTLoJ"
      },
      "source": [
        "e = np.array([[[0, 1, 2],\n",
        "               [3, 4, 5]],\n",
        "                  \n",
        "                  [[5, 4, 3],\n",
        "                   [2, 1, 0]]])  # 3次元のリストからNumPyの3次元配列を作る\n",
        "\n",
        "\n",
        "f = e.reshape(-1)\n",
        "print(f)"
      ],
      "execution_count": null,
      "outputs": []
    },
    {
      "cell_type": "code",
      "metadata": {
        "id": "NhzhFEBmrYyq"
      },
      "source": [
        "# 練習用\n"
      ],
      "execution_count": null,
      "outputs": []
    },
    {
      "cell_type": "markdown",
      "metadata": {
        "id": "5gW7-sRxLOGz"
      },
      "source": [
        "複数ある引数のうち1つを-1にすれば、その次元の要素数は自動で計算されます。  \n",
        "以下の例では、引数に2と4を指定すべきところを2と-1を指定しています。  "
      ]
    },
    {
      "cell_type": "code",
      "metadata": {
        "id": "CPlg51k1LOG8"
      },
      "source": [
        "g = f.reshape(2, -1)\n",
        "print(g)"
      ],
      "execution_count": null,
      "outputs": []
    },
    {
      "cell_type": "code",
      "metadata": {
        "id": "C9wrMWZXLOG8"
      },
      "source": [
        "# 練習用\n"
      ],
      "execution_count": null,
      "outputs": []
    },
    {
      "cell_type": "markdown",
      "source": [
        "## ●演習\n",
        "以下のセルにおける1次元配列`a`を、3次元配列に変換しましょう。  \n",
        "セルにコードを追記してください。"
      ],
      "metadata": {
        "id": "i5ARLH-SPRsV"
      }
    },
    {
      "cell_type": "code",
      "source": [
        "import numpy as np\n",
        "\n",
        "a = np.array([0, 1, 2, 3, 4, 5, 6, 7, 8, 9, 10, 11])  # 1次元配列\n",
        "b =  # ←ここにコードを追記\n",
        "print(b)"
      ],
      "metadata": {
        "id": "On-YgGN_Qasz"
      },
      "execution_count": null,
      "outputs": []
    },
    {
      "cell_type": "markdown",
      "source": [
        "## ●解答例\n",
        "以下は解答例です。  \n",
        "どうしても分からない時、もしくは答え合わせ時に参考にしましょう。"
      ],
      "metadata": {
        "id": "Q_P1_O_FQY7J"
      }
    },
    {
      "cell_type": "code",
      "source": [
        "import numpy as np\n",
        "\n",
        "a = np.array([0, 1, 2, 3, 4, 5, 6, 7, 8, 9, 10, 11])  # 1次元配列\n",
        "b = a.reshape(2, 2, 3)  # ←ここにコードを追記\n",
        "print(b)"
      ],
      "metadata": {
        "id": "R4iP50DMP3Cr"
      },
      "execution_count": null,
      "outputs": []
    }
  ]
}