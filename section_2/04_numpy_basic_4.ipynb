{
  "nbformat": 4,
  "nbformat_minor": 0,
  "metadata": {
    "kernelspec": {
      "display_name": "Python 3",
      "language": "python",
      "name": "python3"
    },
    "language_info": {
      "codemirror_mode": {
        "name": "ipython",
        "version": 3
      },
      "file_extension": ".py",
      "mimetype": "text/x-python",
      "name": "python",
      "nbconvert_exporter": "python",
      "pygments_lexer": "ipython3",
      "version": "3.5.4"
    },
    "colab": {
      "name": "04_numpy_basic_4.ipynb",
      "provenance": [],
      "collapsed_sections": [],
      "include_colab_link": true
    }
  },
  "cells": [
    {
      "cell_type": "markdown",
      "metadata": {
        "id": "view-in-github",
        "colab_type": "text"
      },
      "source": [
        "<a href=\"https://colab.research.google.com/github/yukinaga/numpy_matplotlib/blob/main/section_2/04_numpy_basic_4.ipynb\" target=\"_parent\"><img src=\"https://colab.research.google.com/assets/colab-badge.svg\" alt=\"Open In Colab\"/></a>"
      ]
    },
    {
      "cell_type": "markdown",
      "metadata": {
        "id": "8PEI59mRTLnr"
      },
      "source": [
        "# NumPyの基礎4\n",
        "NumPyの基礎として、以下を学びます。\n",
        "* 軸とtranspose\n",
        "* NumPyの様々な関数"
      ]
    },
    {
      "cell_type": "markdown",
      "metadata": {
        "id": "5e9PIBU6TLnt"
      },
      "source": [
        "## ●軸とtranspose\n",
        "NumPyの配列には、「軸」（axis）という概念があります。  \n",
        "軸は、配列における方向のことで、次元の数と同じ数存在します。  \n",
        "例えば1次元配列には1つの軸があり、2次元配列には2つの軸が、3次元配列には3つの軸があります。   "
      ]
    },
    {
      "cell_type": "markdown",
      "metadata": {
        "id": "eG_cxnskTLnt"
      },
      "source": [
        "例として、以下の2次元配列`a`の軸を考えます。  "
      ]
    },
    {
      "cell_type": "code",
      "metadata": {
        "id": "CWUJW65XTLnu"
      },
      "source": [
        "import numpy as np\n",
        "\n",
        "a = np.array([[0, 1, 2],\n",
        "              [3, 4, 5]])\n",
        "print(a)"
      ],
      "execution_count": null,
      "outputs": []
    },
    {
      "cell_type": "markdown",
      "source": [
        "軸にはそれぞれインデックスがあります。  \n",
        "2次元配列の場合、縦方向の軸は`axis=0`で、横方向の軸は`axis=1`です。  \n",
        "\n",
        "この軸を、transposeを使って入れ替えます。  \n",
        "transposeは配列の軸を入れ替えるメソッドです。  \n",
        "以下のコードは、transposeを用いて`axis=0`と`axis=1`を入れ替えます。"
      ],
      "metadata": {
        "id": "c-OlPV9IZBKi"
      }
    },
    {
      "cell_type": "code",
      "source": [
        "print(a.transpose(1, 0))  # 軸を入れ替え"
      ],
      "metadata": {
        "id": "qDzxQO7tZHB3"
      },
      "execution_count": null,
      "outputs": []
    },
    {
      "cell_type": "code",
      "metadata": {
        "id": "G2cA1xc4CZ8_"
      },
      "source": [
        "# 練習用\n"
      ],
      "execution_count": null,
      "outputs": []
    },
    {
      "cell_type": "markdown",
      "metadata": {
        "id": "7Flpz0G1TLnx"
      },
      "source": [
        "軸の入れ替わりにより、データが並ぶ方向が入れ替わりました。\n",
        "\n",
        "なお、`transpose(1, 0)`と同じ操作は、「転置」と呼ばれる操作（`.T`）でも行うことができます。"
      ]
    },
    {
      "cell_type": "code",
      "source": [
        "print(a.T)  # 転置"
      ],
      "metadata": {
        "id": "AkHvx4PrbUfo"
      },
      "execution_count": null,
      "outputs": []
    },
    {
      "cell_type": "code",
      "metadata": {
        "id": "6_mtHPIFbUfo"
      },
      "source": [
        "# 練習用\n"
      ],
      "execution_count": null,
      "outputs": []
    },
    {
      "cell_type": "markdown",
      "source": [
        "次に、3次元配列の軸を入れ替えます。"
      ],
      "metadata": {
        "id": "C2M9yjfucQYl"
      }
    },
    {
      "cell_type": "code",
      "source": [
        "import numpy as np\n",
        "\n",
        "b = np.arange(12).reshape(2, 2, 3)\n",
        "print(b)"
      ],
      "metadata": {
        "id": "haOC3_GopawI"
      },
      "execution_count": null,
      "outputs": []
    },
    {
      "cell_type": "markdown",
      "source": [
        "3次元配列なので、全ての軸を表現するためには縦と横の他に奥行きが必要です。  \n",
        "この場合は、2次元配列を2つ奥行き方向（`axis=0`）に並べて3次元配列を表現しています。   \n",
        "   \n",
        "この3次元配列の軸をtransposeにより入れ替えます。  \n",
        "`transpose(1, 2, 0)`と記述すると、`axis=0`が`axis=1`と置き換わり、`axis=1`が`axis=2`と置き換わり、`axis=2`が`axis=0`と置き換わります。  "
      ],
      "metadata": {
        "id": "uwbyDf3_prDk"
      }
    },
    {
      "cell_type": "code",
      "source": [
        "print(b.transpose(1, 2, 0))"
      ],
      "metadata": {
        "id": "tIGo2A5ApTro"
      },
      "execution_count": null,
      "outputs": []
    },
    {
      "cell_type": "code",
      "metadata": {
        "id": "dJuR6kJ3pTry"
      },
      "source": [
        "# 練習用\n"
      ],
      "execution_count": null,
      "outputs": []
    },
    {
      "cell_type": "markdown",
      "source": [
        "4次元以上の配列も、同様にtransposeを使って軸を入れ替えることができます。"
      ],
      "metadata": {
        "id": "I8aKBpkyqyaB"
      }
    },
    {
      "cell_type": "markdown",
      "metadata": {
        "id": "35WMwtyMTLob"
      },
      "source": [
        "## ●NumPyの様々な関数\n",
        "NumPyが持つ様々な関数で、様々な値を計算することができます。  "
      ]
    },
    {
      "cell_type": "code",
      "metadata": {
        "id": "I1S-WU0RTLoc"
      },
      "source": [
        "import numpy as np\n",
        "\n",
        "a = np.array([[0, 1, 2],\n",
        "              [3, 4, 5]])  # 2次元配列\n",
        "\n",
        "print(np.sum(a))  # 合計値\n",
        "print(np.average(a))  # 平均値\n",
        "print(np.max(a))  # 最大値\n",
        "print(np.min(a))  # 最小値"
      ],
      "execution_count": null,
      "outputs": []
    },
    {
      "cell_type": "code",
      "metadata": {
        "id": "yo7ZM3Zorbtg"
      },
      "source": [
        "# 練習用\n"
      ],
      "execution_count": null,
      "outputs": []
    },
    {
      "cell_type": "markdown",
      "metadata": {
        "id": "JaroffHQTLoe"
      },
      "source": [
        "引数にaxisを指定すると、特定の方向で演算を行うことができます。"
      ]
    },
    {
      "cell_type": "code",
      "metadata": {
        "id": "rBNNXI20TLof"
      },
      "source": [
        "import numpy as np\n",
        "\n",
        "b = np.array([[0, 1, 2],\n",
        "              [3, 4, 5]])  # 2次元配列\n",
        "\n",
        "print(np.sum(b, axis=0))  # 縦方向で合計\n",
        "print(np.sum(b, axis=1))  # 横方向で合計\n",
        "print(np.max(b, axis=0))  # 縦方向で最大値\n",
        "print(np.max(b, axis=1))  # 横方向で最大値\n",
        "print(np.argmax(b, axis=0))  # 縦方向で最大値のインデックス\n",
        "print(np.argmax(b, axis=1))  # 横方向で最大値のインデックス"
      ],
      "execution_count": null,
      "outputs": []
    },
    {
      "cell_type": "code",
      "metadata": {
        "id": "0lFltyD9rcHD"
      },
      "source": [
        "# 練習用\n"
      ],
      "execution_count": null,
      "outputs": []
    },
    {
      "cell_type": "markdown",
      "metadata": {
        "id": "RRHkC5X_uTKl"
      },
      "source": [
        "where関数は、オリジナルの配列に対して条件に基づき変更を加えて、新たな配列を生成します。  \n",
        "where関数は次のように設定します。  \n",
        "\n",
        "`np.where(条件, 条件を満たしている場合の値, 条件を満たしていない場合の値)`  \n",
        "\n",
        "以下はwhere関数の使用例です。   "
      ]
    },
    {
      "cell_type": "code",
      "metadata": {
        "id": "4I70fek0uQD_"
      },
      "source": [
        "import numpy as np\n",
        "\n",
        "c = np.array([[0, 1, 2],\n",
        "              [3, 4, 5]])  # 2次元配列\n",
        "\n",
        "print(np.where(c<2, 9, c))"
      ],
      "execution_count": null,
      "outputs": []
    },
    {
      "cell_type": "code",
      "metadata": {
        "id": "3s2j-EpWuQEE"
      },
      "source": [
        "# 練習用\n"
      ],
      "execution_count": null,
      "outputs": []
    },
    {
      "cell_type": "markdown",
      "source": [
        "NumPyは他にも様々な有用な関数を持っています。"
      ],
      "metadata": {
        "id": "S32lOh9p2Gbo"
      }
    },
    {
      "cell_type": "markdown",
      "source": [
        "## ●演習\n",
        "4次元配列の軸を、transposeにより入れ替えましょう。  \n",
        "  \n",
        "以下のコードは、形状が`(3, 2, 3, 2)`の4次元配列を生成します。    "
      ],
      "metadata": {
        "id": "i5ARLH-SPRsV"
      }
    },
    {
      "cell_type": "code",
      "source": [
        "import numpy as np\n",
        "\n",
        "a = np.arange(36).reshape(3, 2, 3, 2)  # 4次元配列\n",
        "print(a)"
      ],
      "metadata": {
        "id": "_86eH5vQhPZS"
      },
      "execution_count": null,
      "outputs": []
    },
    {
      "cell_type": "markdown",
      "source": [
        "この配列`a`の、`axis=2`と`axis=3`を入れ替えましょう。"
      ],
      "metadata": {
        "id": "oVgUS12-hieO"
      }
    },
    {
      "cell_type": "code",
      "source": [
        "print(a.transpose(  # ←ここにコードを追記"
      ],
      "metadata": {
        "id": "On-YgGN_Qasz"
      },
      "execution_count": null,
      "outputs": []
    },
    {
      "cell_type": "markdown",
      "source": [
        "## ●解答例\n",
        "以下は解答例です。  \n",
        "どうしても分からない時、もしくは答え合わせ時に参考にしましょう。"
      ],
      "metadata": {
        "id": "Q_P1_O_FQY7J"
      }
    },
    {
      "cell_type": "code",
      "source": [
        "print(a.transpose(0, 1, 3, 2))  # ←ここにコードを追記"
      ],
      "metadata": {
        "id": "R4iP50DMP3Cr"
      },
      "execution_count": null,
      "outputs": []
    }
  ]
}