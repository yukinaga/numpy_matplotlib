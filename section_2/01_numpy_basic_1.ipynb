{
  "nbformat": 4,
  "nbformat_minor": 0,
  "metadata": {
    "kernelspec": {
      "display_name": "Python 3",
      "language": "python",
      "name": "python3"
    },
    "language_info": {
      "codemirror_mode": {
        "name": "ipython",
        "version": 3
      },
      "file_extension": ".py",
      "mimetype": "text/x-python",
      "name": "python",
      "nbconvert_exporter": "python",
      "pygments_lexer": "ipython3",
      "version": "3.5.4"
    },
    "colab": {
      "name": "01_numpy_basic_1.ipynb",
      "provenance": [],
      "collapsed_sections": [],
      "include_colab_link": true
    }
  },
  "cells": [
    {
      "cell_type": "markdown",
      "metadata": {
        "id": "view-in-github",
        "colab_type": "text"
      },
      "source": [
        "<a href=\"https://colab.research.google.com/github/yukinaga/numpy_matplotlib/blob/main/section_2/01_numpy_basic_1.ipynb\" target=\"_parent\"><img src=\"https://colab.research.google.com/assets/colab-badge.svg\" alt=\"Open In Colab\"/></a>"
      ]
    },
    {
      "cell_type": "markdown",
      "metadata": {
        "id": "8PEI59mRTLnr"
      },
      "source": [
        "# NumPyの基礎1\n",
        "NumPyの基礎として、以下を学びます。\n",
        "* NumPyの導入\n",
        "* NumPyの配列\n",
        "* 配列の演算\n",
        "* 要素へのアクセス"
      ]
    },
    {
      "cell_type": "markdown",
      "metadata": {
        "id": "5e9PIBU6TLnt"
      },
      "source": [
        "## ●NumPyの導入"
      ]
    },
    {
      "cell_type": "markdown",
      "metadata": {
        "id": "eG_cxnskTLnt"
      },
      "source": [
        "Pythonでは、importの記述によりモジュールを導入することができます。  \n",
        "NumPyはモジュールなので、NumPyを使用するためには、コードの先頭に例えば以下のように記述します。  "
      ]
    },
    {
      "cell_type": "code",
      "metadata": {
        "id": "CWUJW65XTLnu"
      },
      "source": [
        "import numpy as np"
      ],
      "execution_count": null,
      "outputs": []
    },
    {
      "cell_type": "code",
      "metadata": {
        "id": "G2cA1xc4CZ8_"
      },
      "source": [
        "# 練習用\n"
      ],
      "execution_count": null,
      "outputs": []
    },
    {
      "cell_type": "markdown",
      "metadata": {
        "id": "7Flpz0G1TLnx"
      },
      "source": [
        "asを使うことでモジュールに別の名前をつけることができます。  \n",
        "このように記述すると、これ以降npという名前でNumPyのモジュールを扱うことができます。  "
      ]
    },
    {
      "cell_type": "markdown",
      "metadata": {
        "id": "Lfd5_xOHTLnx"
      },
      "source": [
        "## ●NumPyの配列\n",
        "\n",
        "NumPyの配列は、多数の数値を扱う計算でとても有用です。  \n",
        "NumPyの配列は、とりあえず「数値が折り重なって並んだもの」と捉えていただければ十分です。  \n",
        "以降、単に配列と呼ぶ場合はNumPyの配列を指すことにします。  \n",
        "\n",
        "NumPyの配列は、NumPyのarray関数を使うことでPythonのリストから簡単に作ることができます。 "
      ]
    },
    {
      "cell_type": "code",
      "metadata": {
        "id": "S4WV4FcFTLny"
      },
      "source": [
        "import numpy as np\n",
        "\n",
        "a = np.array([0, 1, 2, 3, 4, 5])  # PythonのリストからNumPyの配列を作る\n",
        "print(a) "
      ],
      "execution_count": null,
      "outputs": []
    },
    {
      "cell_type": "code",
      "metadata": {
        "id": "Gq9ZqZdinkpy"
      },
      "source": [
        "# 練習用\n"
      ],
      "execution_count": null,
      "outputs": []
    },
    {
      "cell_type": "markdown",
      "metadata": {
        "id": "9WPpjCzCTLn1"
      },
      "source": [
        "このような配列が折り重なった、2次元の配列を作ることもできます。  \n",
        "2次元配列は、要素がリストであるリスト（2次元のリスト）から作ります。"
      ]
    },
    {
      "cell_type": "code",
      "metadata": {
        "id": "cbm07F22TLn2"
      },
      "source": [
        "import numpy as np\n",
        "\n",
        "b = np.array([[0, 1, 2], [3, 4, 5]])  # 2次元のリストからNumPyの2次元配列を作る\n",
        "print(b)"
      ],
      "execution_count": null,
      "outputs": []
    },
    {
      "cell_type": "code",
      "metadata": {
        "id": "smXRfvtRnmsd"
      },
      "source": [
        "# 練習用\n"
      ],
      "execution_count": null,
      "outputs": []
    },
    {
      "cell_type": "markdown",
      "metadata": {
        "id": "0GJVCigITLn4"
      },
      "source": [
        "同様に、3次元の配列も作ることができます。  \n",
        "3次元配列は2次元の配列がさらに折り重なったもので、3次元のリストから作ります。"
      ]
    },
    {
      "cell_type": "code",
      "metadata": {
        "id": "4p3lrbpbTLn5"
      },
      "source": [
        "import numpy as np\n",
        "\n",
        "c = np.array([[[0, 1, 2], [3, 4, 5]], [[5, 4, 3], [2, 1, 0]]])  # 3次元のリストからNumPyの3次元配列を作る\n",
        "print(c)"
      ],
      "execution_count": null,
      "outputs": []
    },
    {
      "cell_type": "code",
      "metadata": {
        "id": "XkeFy2S1nndR"
      },
      "source": [
        "# 練習用\n"
      ],
      "execution_count": null,
      "outputs": []
    },
    {
      "cell_type": "markdown",
      "source": [
        "同様にして、より多次元の配列を作ることもできます。\n",
        "\n",
        "配列の形状（各次元の要素数）はshape関数で、配列のトータルの要素数はsize関数で得ることができます。"
      ],
      "metadata": {
        "id": "sNBM5N__8qzx"
      }
    },
    {
      "cell_type": "code",
      "source": [
        "print(np.shape(c))\n",
        "print(np.size(c))"
      ],
      "metadata": {
        "id": "hOBgOseS8s-i"
      },
      "execution_count": null,
      "outputs": []
    },
    {
      "cell_type": "code",
      "metadata": {
        "id": "HrzcGJlm9YHP"
      },
      "source": [
        "# 練習用\n"
      ],
      "execution_count": null,
      "outputs": []
    },
    {
      "cell_type": "markdown",
      "source": [
        "Pythonのリストの要素数をカウントするlen関数は、配列に使用すると最初の次元の要素数をカウントします。"
      ],
      "metadata": {
        "id": "nX77xHx_9Fnt"
      }
    },
    {
      "cell_type": "code",
      "source": [
        "d = [[1,2],[3,4],[5,6]]  # (3, 2)\n",
        "print(len(d))  # リスト\n",
        "print(len(np.array(d)))  # 配列"
      ],
      "metadata": {
        "id": "nlgu7D0F9GcG"
      },
      "execution_count": null,
      "outputs": []
    },
    {
      "cell_type": "code",
      "metadata": {
        "id": "DyzOTlNi9YjI"
      },
      "source": [
        "# 練習用\n"
      ],
      "execution_count": null,
      "outputs": []
    },
    {
      "cell_type": "markdown",
      "metadata": {
        "id": "RyoE4NnoTLn7"
      },
      "source": [
        "## ●配列の演算\n",
        "\n",
        "以下の例では、配列と数値の間で演算を行なっています。  \n",
        "この場合、配列の各要素と数値の間で演算が行われます。"
      ]
    },
    {
      "cell_type": "code",
      "metadata": {
        "id": "M9b6D0t2TLn8"
      },
      "source": [
        "import numpy as np\n",
        "\n",
        "a = np.array([[0, 1, 2], [3, 4, 5]])  # 2次元配列\n",
        "\n",
        "print(a) \n",
        "print()\n",
        "print(a + 3)  # 各要素に3を足す\n",
        "print()\n",
        "print(a * 3)  # 各要素に3をかける"
      ],
      "execution_count": null,
      "outputs": []
    },
    {
      "cell_type": "code",
      "metadata": {
        "id": "qFeuvAPyrVh_"
      },
      "source": [
        "# 練習用\n"
      ],
      "execution_count": null,
      "outputs": []
    },
    {
      "cell_type": "markdown",
      "metadata": {
        "id": "ETHgZASbTLn-"
      },
      "source": [
        "また、以下は配列同士の演算の例です。  \n",
        "この場合は同じ位置の各要素同士で演算が行われます。 "
      ]
    },
    {
      "cell_type": "code",
      "metadata": {
        "id": "f-P72aAATLn_"
      },
      "source": [
        "b = np.array([[0, 1, 2], [3, 4, 5]])  # 2次元配列\n",
        "c = np.array([[2, 0, 1], [5, 3, 4]])  # 2次元配列\n",
        "\n",
        "print(b)\n",
        "print()\n",
        "print(c)\n",
        "print()\n",
        "print(b + c)\n",
        "print()\n",
        "print(b * c)"
      ],
      "execution_count": null,
      "outputs": []
    },
    {
      "cell_type": "code",
      "metadata": {
        "id": "2gY3sToWrWwP"
      },
      "source": [
        "# 練習用\n"
      ],
      "execution_count": null,
      "outputs": []
    },
    {
      "cell_type": "markdown",
      "metadata": {
        "id": "neEBCIjkTLoL"
      },
      "source": [
        "## ●要素へのアクセス"
      ]
    },
    {
      "cell_type": "markdown",
      "metadata": {
        "id": "DFpo1tr0TLoM"
      },
      "source": [
        "配列の各要素へのアクセスは、リストの場合と同様にインデックスを利用します。  \n",
        "一次元配列の場合、以下のように`[ ]`内にインデックスを指定することで、要素を取り出すことができます。"
      ]
    },
    {
      "cell_type": "code",
      "metadata": {
        "id": "oZNEQLbjTLoM"
      },
      "source": [
        "import numpy as np\n",
        "\n",
        "a = np.array([0, 1, 2, 3, 4, 5])\n",
        "print(a[2])"
      ],
      "execution_count": null,
      "outputs": []
    },
    {
      "cell_type": "code",
      "metadata": {
        "id": "DjqMHOmirZej"
      },
      "source": [
        "# 練習用\n"
      ],
      "execution_count": null,
      "outputs": []
    },
    {
      "cell_type": "markdown",
      "metadata": {
        "id": "UF8HmYGYTLoO"
      },
      "source": [
        "この場合は、先頭から0,1,2...とインデックスをつけた場合の、インデックスが2要素を取り出しています。  \n",
        "また、リストの場合と同様に、インデックスを指定して要素を入れ替えることができます。"
      ]
    },
    {
      "cell_type": "code",
      "metadata": {
        "id": "c-vfLZ49TLoP"
      },
      "source": [
        "a[2] = 9\n",
        "print(a)"
      ],
      "execution_count": null,
      "outputs": []
    },
    {
      "cell_type": "code",
      "metadata": {
        "id": "t9e6yVY9rZ4_"
      },
      "source": [
        "# 練習用\n"
      ],
      "execution_count": null,
      "outputs": []
    },
    {
      "cell_type": "markdown",
      "metadata": {
        "id": "xGQ4gl3nTLoR"
      },
      "source": [
        "この場合は、インデックスが2の要素を9に置き換えています。  \n",
        "\n",
        "2次元配列の場合、要素を取り出す際にはインデックスを縦横で2つ指定します。  \n",
        "`,`（カンマ）区切りでインデックスを並べることも、インデックスを入れた`[ ]`を2つ並べることもできます。  "
      ]
    },
    {
      "cell_type": "code",
      "metadata": {
        "id": "oLGquZxlTLoS"
      },
      "source": [
        "b = np.array([[0, 1, 2],\n",
        "              [3, 4, 5]])\n",
        "\n",
        "print(b[1, 2])  # b[1][2]と同じ"
      ],
      "execution_count": null,
      "outputs": []
    },
    {
      "cell_type": "code",
      "metadata": {
        "id": "lkcxMuf8raV0"
      },
      "source": [
        "# 練習用\n"
      ],
      "execution_count": null,
      "outputs": []
    },
    {
      "cell_type": "markdown",
      "metadata": {
        "id": "e78N2fZLTLoU"
      },
      "source": [
        "縦のインデックスが1、横のインデックスが2の要素を取り出すことができました。  \n",
        "要素を入れ替える際も、同様にインデックスを2つ指定します。"
      ]
    },
    {
      "cell_type": "code",
      "metadata": {
        "id": "5lyArOvLTLoU"
      },
      "source": [
        "b[1, 2] = 9\n",
        "\n",
        "print(b)"
      ],
      "execution_count": null,
      "outputs": []
    },
    {
      "cell_type": "code",
      "metadata": {
        "id": "WxrWBoTgraxZ"
      },
      "source": [
        "# 練習用\n"
      ],
      "execution_count": null,
      "outputs": []
    },
    {
      "cell_type": "markdown",
      "metadata": {
        "id": "uw-3SmU2TLoW"
      },
      "source": [
        "2つのインデックスで指定した要素が入れ替わりました。  \n",
        "3次元以上の配列の場合も同様に、インデックスを複数指定することで要素にアクセスすることができます。"
      ]
    },
    {
      "cell_type": "markdown",
      "metadata": {
        "id": "MmZdfNVBR_rR"
      },
      "source": [
        "指定するインデックスの数が配列の次元の数より少ない場合は、配列の一部にアクセスします。  \n",
        "以下のセルの例は2次元配列ですが、インデックスを1つしか指定していません。  "
      ]
    },
    {
      "cell_type": "code",
      "metadata": {
        "id": "D6hy1UYzR_ra"
      },
      "source": [
        "c = np.array([[0, 1, 2],\n",
        "              [3, 4, 5],\n",
        "              [6, 7, 8]])\n",
        "print(c[1])  # インデックスが1つだけ"
      ],
      "execution_count": null,
      "outputs": []
    },
    {
      "cell_type": "code",
      "metadata": {
        "id": "S7eNhwGCR_rb"
      },
      "source": [
        "# 練習用\n"
      ],
      "execution_count": null,
      "outputs": []
    },
    {
      "cell_type": "markdown",
      "metadata": {
        "id": "PM5xUQnjSZKm"
      },
      "source": [
        "以下のように、`[ ]`内に条件を記述すると、条件を満たす要素のみ取り出すことができます。  \n",
        "以下では、2で割った余りが0の要素、すなわち偶数のみを取り出しています。    "
      ]
    },
    {
      "cell_type": "code",
      "metadata": {
        "id": "DxZj7-TYSZKn"
      },
      "source": [
        "d = np.array([0, 1, 2, 3, 4, 5, 6, 7, 8, 9])\n",
        "print(d[d%2 == 0])  # [ ]内に条件"
      ],
      "execution_count": null,
      "outputs": []
    },
    {
      "cell_type": "code",
      "metadata": {
        "id": "7ZubdBCuSZKo"
      },
      "source": [
        "# 練習用\n"
      ],
      "execution_count": null,
      "outputs": []
    },
    {
      "cell_type": "markdown",
      "metadata": {
        "id": "jU2J3ZJeSoxi"
      },
      "source": [
        "インデックスに配列を用いることもできます。  \n",
        "この場合、複数の要素にまとめてアクセスすることができます。  \n",
        "以下の例では、2つの配列でインデックスを指定しています。  "
      ]
    },
    {
      "cell_type": "code",
      "metadata": {
        "id": "zreIsmAQSoxi"
      },
      "source": [
        "e = np.zeros((3, 3))  # 要素は全て0\n",
        "f = np.array([8, 9])  # 置き換える値\n",
        "\n",
        "e[np.array([0, 2]), np.array([0, 1])] = f  # 2つの配列でインデッックスを指定\n",
        "print(e)"
      ],
      "execution_count": null,
      "outputs": []
    },
    {
      "cell_type": "code",
      "metadata": {
        "id": "8deUNIHxSoxi"
      },
      "source": [
        "# 練習用\n"
      ],
      "execution_count": null,
      "outputs": []
    },
    {
      "cell_type": "markdown",
      "source": [
        "## ●演習\n",
        "以下のセルにおける3次元のリスト`a`から、NumPyの配列を作成し表示しましょう。  \n",
        "セルにコードを追記してください。"
      ],
      "metadata": {
        "id": "i5ARLH-SPRsV"
      }
    },
    {
      "cell_type": "code",
      "source": [
        "import numpy as np\n",
        "\n",
        "a = [[[0, 1, 2], [3, 4, 5]], [[5, 4, 3], [2, 1, 0]]]\n",
        "c =  # ←ここにコードを追記\n",
        "print(c)"
      ],
      "metadata": {
        "id": "On-YgGN_Qasz"
      },
      "execution_count": null,
      "outputs": []
    },
    {
      "cell_type": "markdown",
      "source": [
        "以下は解答例です。"
      ],
      "metadata": {
        "id": "Q_P1_O_FQY7J"
      }
    },
    {
      "cell_type": "code",
      "source": [
        "import numpy as np\n",
        "\n",
        "a = [[[0, 1, 2], [3, 4, 5]], [[5, 4, 3], [2, 1, 0]]]\n",
        "c = np.array(a)  # ←ここにコードを追記\n",
        "print(c)"
      ],
      "metadata": {
        "id": "R4iP50DMP3Cr"
      },
      "execution_count": null,
      "outputs": []
    }
  ]
}