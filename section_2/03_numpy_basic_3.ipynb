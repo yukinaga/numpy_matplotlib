{
  "nbformat": 4,
  "nbformat_minor": 0,
  "metadata": {
    "kernelspec": {
      "display_name": "Python 3",
      "language": "python",
      "name": "python3"
    },
    "language_info": {
      "codemirror_mode": {
        "name": "ipython",
        "version": 3
      },
      "file_extension": ".py",
      "mimetype": "text/x-python",
      "name": "python",
      "nbconvert_exporter": "python",
      "pygments_lexer": "ipython3",
      "version": "3.5.4"
    },
    "colab": {
      "name": "03_numpy_basic_3.ipynb",
      "provenance": [],
      "collapsed_sections": [],
      "include_colab_link": true
    }
  },
  "cells": [
    {
      "cell_type": "markdown",
      "metadata": {
        "id": "view-in-github",
        "colab_type": "text"
      },
      "source": [
        "<a href=\"https://colab.research.google.com/github/yukinaga/numpy_matplotlib/blob/main/section_2/03_numpy_basic_3.ipynb\" target=\"_parent\"><img src=\"https://colab.research.google.com/assets/colab-badge.svg\" alt=\"Open In Colab\"/></a>"
      ]
    },
    {
      "cell_type": "markdown",
      "metadata": {
        "id": "8PEI59mRTLnr"
      },
      "source": [
        "# NumPyの基礎3\n",
        "NumPyの基礎として、以下を学びます。\n",
        "* ブロードキャスト\n",
        "* スライシング"
      ]
    },
    {
      "cell_type": "markdown",
      "metadata": {
        "id": "5e9PIBU6TLnt"
      },
      "source": [
        "## ●ブロードキャスト\n",
        "NumPyでは、特定の条件を満たしていれば異なる形状の配列同士でも演算を行うことができます。  \n",
        "この機能は「ブロードキャスト」と呼ばれます。  "
      ]
    },
    {
      "cell_type": "markdown",
      "metadata": {
        "id": "eG_cxnskTLnt"
      },
      "source": [
        "例として、以下の2つの配列を考えます。"
      ]
    },
    {
      "cell_type": "code",
      "metadata": {
        "id": "CWUJW65XTLnu"
      },
      "source": [
        "import numpy as np\n",
        "\n",
        "a = np.array([[1, 1],\n",
        "              [1, 1]])  # 2次元配列\n",
        "b = np.array([1, 2])  # 1次元配列"
      ],
      "execution_count": null,
      "outputs": []
    },
    {
      "cell_type": "markdown",
      "source": [
        "上記の2つの配列は形状が違いますが、ブロードキャストにより演算することが可能です。"
      ],
      "metadata": {
        "id": "c-OlPV9IZBKi"
      }
    },
    {
      "cell_type": "code",
      "source": [
        "print(a + b)"
      ],
      "metadata": {
        "id": "qDzxQO7tZHB3"
      },
      "execution_count": null,
      "outputs": []
    },
    {
      "cell_type": "code",
      "metadata": {
        "id": "G2cA1xc4CZ8_"
      },
      "source": [
        "# 練習用\n"
      ],
      "execution_count": null,
      "outputs": []
    },
    {
      "cell_type": "markdown",
      "metadata": {
        "id": "7Flpz0G1TLnx"
      },
      "source": [
        "1次元配列が縦方向に拡張されることで、形状が同じになり配列同士の演算が可能になりました。  \n",
        "  \n",
        "次は、以下の演算を行います。  \n",
        "形状が(2, 1)の2次元配列を、2次元配列`a`と足し合わせます。  \n",
        "これらの2つの配列は形状が異なりますが、ブロードキャストにより配列を横方向に拡張することで演算が可能です。  "
      ]
    },
    {
      "cell_type": "code",
      "source": [
        "c = np.array([[1],\n",
        "              [2]])  # 2次元配列\n",
        "\n",
        "print(a + c)"
      ],
      "metadata": {
        "id": "AkHvx4PrbUfo"
      },
      "execution_count": null,
      "outputs": []
    },
    {
      "cell_type": "code",
      "metadata": {
        "id": "6_mtHPIFbUfo"
      },
      "source": [
        "# 練習用\n"
      ],
      "execution_count": null,
      "outputs": []
    },
    {
      "cell_type": "markdown",
      "source": [
        "以上のように、ある方向に拡張することで配列の形状が一致すれば、異なる形状の配列同士でも演算が可能です。  \n",
        "ブロードキャストは、3次元以上の配列にも適用可能です。"
      ],
      "metadata": {
        "id": "C2M9yjfucQYl"
      }
    },
    {
      "cell_type": "markdown",
      "metadata": {
        "id": "Lfd5_xOHTLnx"
      },
      "source": [
        "## ●スライシング\n",
        "スライシング機能を使うと、配列の一部に範囲を指定して自由にアクセスすることができます。  \n",
        "一次元配列では、以下の形式で配列の一部にアクセス可能です。  \n",
        "  \n",
        "`配列名[このインデックス以上:このインデックス未満]`  \n",
        "\n",
        "上記のように、スライシングでは`:`（コロン）を使って範囲を指定します。  \n",
        "以下の例では、1次元配列の一部をスライシングにより範囲を指定して抜き出しています。"
      ]
    },
    {
      "cell_type": "code",
      "metadata": {
        "id": "S4WV4FcFTLny"
      },
      "source": [
        "import numpy as np\n",
        "\n",
        "a = np.array([0, 1, 2, 3, 4, 5, 6, 7, 8, 9, 10])\n",
        "print(a[2:8])  # スライシング"
      ],
      "execution_count": null,
      "outputs": []
    },
    {
      "cell_type": "code",
      "metadata": {
        "id": "Gq9ZqZdinkpy"
      },
      "source": [
        "# 練習用\n"
      ],
      "execution_count": null,
      "outputs": []
    },
    {
      "cell_type": "markdown",
      "metadata": {
        "id": "9WPpjCzCTLn1"
      },
      "source": [
        "スライシングの場合、要素へのアクセスとは異なり抜き出した配列の次元は元の配列の次元と変わらないことにご注意ください。  \n",
        "  \n",
        "以下のようにステップを指定して、飛び飛びの範囲を指定することも可能です。  \n",
        "\n",
        "`配列名[このインデックス以上:このインデックス未満:ステップ]`  \n",
        "  \n",
        "以下のコードは、ステップを指定してスライシングを行なっている例です。"
      ]
    },
    {
      "cell_type": "code",
      "metadata": {
        "id": "cbm07F22TLn2"
      },
      "source": [
        "print(a[2:8:2])"
      ],
      "execution_count": null,
      "outputs": []
    },
    {
      "cell_type": "code",
      "metadata": {
        "id": "smXRfvtRnmsd"
      },
      "source": [
        "# 練習用\n"
      ],
      "execution_count": null,
      "outputs": []
    },
    {
      "cell_type": "markdown",
      "metadata": {
        "id": "0GJVCigITLn4"
      },
      "source": [
        "`[ ]`の中に`:`（コロン）のみを記述すると、その次元の全ての要素を指定することができます。"
      ]
    },
    {
      "cell_type": "code",
      "metadata": {
        "id": "4p3lrbpbTLn5"
      },
      "source": [
        "print(a[:])"
      ],
      "execution_count": null,
      "outputs": []
    },
    {
      "cell_type": "code",
      "metadata": {
        "id": "XkeFy2S1nndR"
      },
      "source": [
        "# 練習用\n"
      ],
      "execution_count": null,
      "outputs": []
    },
    {
      "cell_type": "markdown",
      "source": [
        "2次元配列の場合は、,（カンマ）で区切って各次元の範囲を指定します。"
      ],
      "metadata": {
        "id": "sNBM5N__8qzx"
      }
    },
    {
      "cell_type": "code",
      "source": [
        "b = np.array([[0, 1, 2],\n",
        "              [3, 4, 5],\n",
        "              [6, 7, 8]])\n",
        "print(b[0:2, 0:2])  # 各次元の範囲を指定"
      ],
      "metadata": {
        "id": "hOBgOseS8s-i"
      },
      "execution_count": null,
      "outputs": []
    },
    {
      "cell_type": "code",
      "metadata": {
        "id": "HrzcGJlm9YHP"
      },
      "source": [
        "# 練習用\n"
      ],
      "execution_count": null,
      "outputs": []
    },
    {
      "cell_type": "markdown",
      "source": [
        "スライシングを用いて指定した領域を、別の配列に置き換えることができます。   \n",
        "配列`b`の右下、2x2の領域を置き換えてみましょう。"
      ],
      "metadata": {
        "id": "nX77xHx_9Fnt"
      }
    },
    {
      "cell_type": "code",
      "source": [
        "b[1:3, 1:3] = np.array([[9, 9],\n",
        "                        [9, 9]])  # 右下の領域を置き換え\n",
        "print(b)"
      ],
      "metadata": {
        "id": "nlgu7D0F9GcG"
      },
      "execution_count": null,
      "outputs": []
    },
    {
      "cell_type": "code",
      "metadata": {
        "id": "DyzOTlNi9YjI"
      },
      "source": [
        "# 練習用\n"
      ],
      "execution_count": null,
      "outputs": []
    },
    {
      "cell_type": "markdown",
      "source": [
        "## ●演習\n",
        "3次元配列の一部を、スライシングにより他の配列に置き換えましょう。\n",
        "  \n",
        "以下のコードは、形状が`(2, 3, 3)`で全ての要素が0の配列を生成します。  "
      ],
      "metadata": {
        "id": "i5ARLH-SPRsV"
      }
    },
    {
      "cell_type": "code",
      "source": [
        "import numpy as np\n",
        "\n",
        "a = np.zeros(18).reshape(2, 3, 3)\n",
        "print(a)"
      ],
      "metadata": {
        "id": "_86eH5vQhPZS"
      },
      "execution_count": null,
      "outputs": []
    },
    {
      "cell_type": "markdown",
      "source": [
        "この配列`a`の一部を、要素が全て1、形状が2x2の配列`b`で置き換えましょう。  "
      ],
      "metadata": {
        "id": "oVgUS12-hieO"
      }
    },
    {
      "cell_type": "code",
      "source": [
        "b = np.ones(4).reshape(2, 2)  # 要素が全て1、形状は2x2\n",
        "a[  # ←ここにコードを追記\n",
        "print(a)"
      ],
      "metadata": {
        "id": "On-YgGN_Qasz"
      },
      "execution_count": null,
      "outputs": []
    },
    {
      "cell_type": "markdown",
      "source": [
        "## ●解答例\n",
        "以下は解答例です。  \n",
        "どうしても分からない時、もしくは答え合わせ時に参考にしましょう。"
      ],
      "metadata": {
        "id": "Q_P1_O_FQY7J"
      }
    },
    {
      "cell_type": "code",
      "source": [
        "b = np.ones(4).reshape(2, 2)  # 要素が全て1、形状は2x2\n",
        "a[0, 0:2, 0:2] = b  # ←ここにコードを追記\n",
        "print(a)"
      ],
      "metadata": {
        "id": "R4iP50DMP3Cr"
      },
      "execution_count": null,
      "outputs": []
    }
  ]
}