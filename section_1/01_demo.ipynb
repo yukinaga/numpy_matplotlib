{
  "nbformat": 4,
  "nbformat_minor": 0,
  "metadata": {
    "kernelspec": {
      "display_name": "Python 3",
      "language": "python",
      "name": "python3"
    },
    "language_info": {
      "codemirror_mode": {
        "name": "ipython",
        "version": 3
      },
      "file_extension": ".py",
      "mimetype": "text/x-python",
      "name": "python",
      "nbconvert_exporter": "python",
      "pygments_lexer": "ipython3",
      "version": "3.6.7"
    },
    "colab": {
      "name": "01_demo.ipynb",
      "provenance": [],
      "collapsed_sections": [],
      "include_colab_link": true
    }
  },
  "cells": [
    {
      "cell_type": "markdown",
      "metadata": {
        "id": "view-in-github",
        "colab_type": "text"
      },
      "source": [
        "<a href=\"https://colab.research.google.com/github/yukinaga/numpy_matplotlib/blob/main/section_1/01_demo.ipynb\" target=\"_parent\"><img src=\"https://colab.research.google.com/assets/colab-badge.svg\" alt=\"Open In Colab\"/></a>"
      ]
    },
    {
      "cell_type": "markdown",
      "metadata": {
        "id": "8kW_qXJVTjic"
      },
      "source": [
        "# NumPyとmatplotlibの実演\n",
        "NumPyはPythonの拡張モジュールで、シンプルな表記で効率的なデータの操作を可能にします。  \n",
        "matplotlibはグラフの描画や画像の表示、簡単なアニメーションの作成などでデータを可視化することができます。   \n",
        "今回は、NumPyとmaplotlibの簡単なデモを行います。"
      ]
    },
    {
      "cell_type": "markdown",
      "metadata": {
        "id": "z95B1-4gTjik"
      },
      "source": [
        "## ●データの生成\n",
        "\n",
        "NumPyを使ってデータを生成、加工します。  \n",
        "-πからπまでの数値データを生成した上で、簡単な演算を行います。"
      ]
    },
    {
      "cell_type": "code",
      "metadata": {
        "id": "9ZvIXOLNTjil"
      },
      "source": [
        "import numpy as np  # NumPyの導入\n",
        "\n",
        "x = np.linspace(-np.pi, np.pi)  # -πからπまでの数値を生成\n",
        "y_1 = 0.5 * x  # y = 0.5x\n",
        "y_2 = np.sin(x)  # y = sin x\n",
        "\n",
        "print(\"x\")\n",
        "print(x)\n",
        "print()\n",
        "print(\"y=0.5x\")\n",
        "print(y_1)\n",
        "print()\n",
        "print(\"y=sin x\")\n",
        "print(y_2)"
      ],
      "execution_count": null,
      "outputs": []
    },
    {
      "cell_type": "markdown",
      "metadata": {
        "id": "mBVPsou-Tjin"
      },
      "source": [
        "## ●グラフの描画\n",
        "matplotlibを使ってグラフを描画します。  \n",
        "軸のラベルやグラフのタイトル、凡例などを表示し、線のスタイルを変更してリッチなグラフにします。"
      ]
    },
    {
      "cell_type": "code",
      "metadata": {
        "id": "OLs9cslOTjio"
      },
      "source": [
        "import matplotlib.pyplot as plt  # matplotlibの導入\n",
        "\n",
        "# 軸のラベル\n",
        "plt.xlabel(\"x value\")\n",
        "plt.ylabel(\"y value\")\n",
        "\n",
        "# グラフのタイトル\n",
        "plt.title(\"My Graph\")\n",
        "\n",
        "# プロット 凡例と線のスタイルを指定\n",
        "plt.plot(x, y_1, label=\"0.5x\")\n",
        "plt.plot(x, y_2, label=\"sin x\", linestyle=\"dashed\")\n",
        "plt.legend() # 凡例を表示\n",
        "\n",
        "plt.show()"
      ],
      "execution_count": null,
      "outputs": []
    }
  ]
}