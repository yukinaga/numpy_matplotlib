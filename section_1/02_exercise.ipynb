{
  "nbformat": 4,
  "nbformat_minor": 0,
  "metadata": {
    "kernelspec": {
      "display_name": "Python 3",
      "language": "python",
      "name": "python3"
    },
    "language_info": {
      "codemirror_mode": {
        "name": "ipython",
        "version": 3
      },
      "file_extension": ".py",
      "mimetype": "text/x-python",
      "name": "python",
      "nbconvert_exporter": "python",
      "pygments_lexer": "ipython3",
      "version": "3.6.7"
    },
    "colab": {
      "name": "02_exercise.ipynb",
      "provenance": [],
      "collapsed_sections": [],
      "include_colab_link": true
    }
  },
  "cells": [
    {
      "cell_type": "markdown",
      "metadata": {
        "id": "view-in-github",
        "colab_type": "text"
      },
      "source": [
        "<a href=\"https://colab.research.google.com/github/yukinaga/numpy_matplotlib/blob/main/section_1/02_exercise.ipynb\" target=\"_parent\"><img src=\"https://colab.research.google.com/assets/colab-badge.svg\" alt=\"Open In Colab\"/></a>"
      ]
    },
    {
      "cell_type": "markdown",
      "metadata": {
        "id": "8kW_qXJVTjic"
      },
      "source": [
        "# 演習\n",
        "NumPyとmatplotlibの簡単なコードを書いてみましょう。"
      ]
    },
    {
      "cell_type": "markdown",
      "metadata": {
        "id": "z95B1-4gTjik"
      },
      "source": [
        "## ●データの生成\n",
        "$y=cos{x}$の演算を行うコードを追記しましょう。  \n",
        "以下のセルにコードの追記を行なってください。  \n",
        "参考: https://numpy.org/doc/stable/reference/generated/numpy.cos.html"
      ]
    },
    {
      "cell_type": "code",
      "metadata": {
        "id": "9ZvIXOLNTjil"
      },
      "source": [
        "import numpy as np  # NumPyの導入\n",
        "\n",
        "x = np.linspace(-np.pi, np.pi)  # -πからπまでの数値を生成\n",
        "y_1 = 0.5 * x  # y = 0.5x\n",
        "y_2 = np.sin(x)  # y = sin x\n",
        "y_3 =  # ←ここに追記 y=cos x\n",
        "\n",
        "print(\"x\")\n",
        "print(x)\n",
        "print()\n",
        "print(\"y=0.5x\")\n",
        "print(y_1)\n",
        "print()\n",
        "print(\"y=sin x\")\n",
        "print(y_2)\n",
        "print()\n",
        "print(\"y=cos x\")\n",
        "print(y_3)"
      ],
      "execution_count": null,
      "outputs": []
    },
    {
      "cell_type": "markdown",
      "metadata": {
        "id": "mBVPsou-Tjin"
      },
      "source": [
        "## ●グラフの描画\n",
        "以下のセルに、$y=cos{x}$を**点線で**描画するコードを追記しましょう。"
      ]
    },
    {
      "cell_type": "code",
      "metadata": {
        "id": "OLs9cslOTjio"
      },
      "source": [
        "import matplotlib.pyplot as plt  # matplotlibの導入\n",
        "\n",
        "# 軸のラベル\n",
        "plt.xlabel(\"x value\")\n",
        "plt.ylabel(\"y value\")\n",
        "\n",
        "# グラフのタイトル\n",
        "plt.title(\"My Graph\")\n",
        "\n",
        "# プロット 凡例と線のスタイルを指定\n",
        "plt.plot(x, y_1, label=\"0.5x\")\n",
        "plt.plot(x, y_2, label=\"sin x\", linestyle=\"dashed\")\n",
        "plt.plot(  # ←ここに追記\n",
        "\n",
        "plt.legend() # 凡例を表示\n",
        "\n",
        "plt.show()"
      ],
      "execution_count": null,
      "outputs": []
    },
    {
      "cell_type": "markdown",
      "metadata": {
        "id": "TmGJE24E-51R"
      },
      "source": [
        "# 解答例\n",
        "以下は解答例です。  "
      ]
    },
    {
      "cell_type": "code",
      "metadata": {
        "id": "M506q_v8NXLd"
      },
      "source": [
        "import numpy as np  # NumPyの導入\n",
        "\n",
        "x = np.linspace(-np.pi, np.pi)  # -πからπまでの数値を生成\n",
        "y_1 = 0.5 * x  # y = 0.5x\n",
        "y_2 = np.sin(x)  # y = sin x\n",
        "y_3 = np.cos(x)  # ←ここに追記 y=cos x\n",
        "\n",
        "print(\"x\")\n",
        "print(x)\n",
        "print()\n",
        "print(\"y=0.5x\")\n",
        "print(y_1)\n",
        "print()\n",
        "print(\"y=sin x\")\n",
        "print(y_2)\n",
        "print()\n",
        "print(\"y=cos x\")\n",
        "print(y_3)"
      ],
      "execution_count": null,
      "outputs": []
    },
    {
      "cell_type": "code",
      "metadata": {
        "id": "eA0akgv0NaQ4"
      },
      "source": [
        "import matplotlib.pyplot as plt  # matplotlibの導入\n",
        "\n",
        "# 軸のラベル\n",
        "plt.xlabel(\"x value\")\n",
        "plt.ylabel(\"y value\")\n",
        "\n",
        "# グラフのタイトル\n",
        "plt.title(\"My Graph\")\n",
        "\n",
        "# プロット 凡例と線のスタイルを指定\n",
        "plt.plot(x, y_1, label=\"0.5x\")\n",
        "plt.plot(x, y_2, label=\"sin x\", linestyle=\"dashed\")\n",
        "plt.plot(x, y_3, label=\"cos x\", linestyle=\"dashed\")  # ←ここに追記\n",
        "\n",
        "plt.legend() # 凡例を表示\n",
        "\n",
        "plt.show()"
      ],
      "execution_count": null,
      "outputs": []
    }
  ]
}