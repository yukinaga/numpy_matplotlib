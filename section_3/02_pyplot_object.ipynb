{
  "nbformat": 4,
  "nbformat_minor": 0,
  "metadata": {
    "colab": {
      "name": "02_pyplot_object.ipynb",
      "provenance": [],
      "collapsed_sections": [],
      "authorship_tag": "ABX9TyMjO6wv4ZxuuqY4QdlxCvxX",
      "include_colab_link": true
    },
    "kernelspec": {
      "name": "python3",
      "display_name": "Python 3"
    },
    "language_info": {
      "name": "python"
    }
  },
  "cells": [
    {
      "cell_type": "markdown",
      "metadata": {
        "id": "view-in-github",
        "colab_type": "text"
      },
      "source": [
        "<a href=\"https://colab.research.google.com/github/yukinaga/numpy_matplotlib/blob/main/section_3/02_pyplot_object.ipynb\" target=\"_parent\"><img src=\"https://colab.research.google.com/assets/colab-badge.svg\" alt=\"Open In Colab\"/></a>"
      ]
    },
    {
      "cell_type": "markdown",
      "metadata": {
        "id": "8kW_qXJVTjic"
      },
      "source": [
        "# Pyplotインターフェイスとオブジェクト指向インターフェイス\n",
        "matplotlibのグラフ描画には、「Pyplotインターフェイス」と「オブジェクト指向インターフェイス」という2つのスタイルがあります。  \n",
        "それぞれのスタイルで、画像を表示してみましょう。"
      ]
    },
    {
      "cell_type": "markdown",
      "metadata": {
        "id": "W7h50pYSRaZ0"
      },
      "source": [
        "## ●手書き文字画像の読み込み\n",
        "scikit-learnというライブラリから、8×8の手書き数字のモノクロ画像データを読みます。  \n",
        "各画像データには、どの数字かを表す0から9までのラベルが付いています。"
      ]
    },
    {
      "cell_type": "code",
      "metadata": {
        "id": "Xc9WCis8TGwx"
      },
      "source": [
        "import numpy as np\n",
        "import matplotlib.pyplot as plt\n",
        "from sklearn import datasets\n",
        "\n",
        "digits_data = datasets.load_digits()\n",
        "\n",
        "print(\"データの形状:\", digits_data.data.shape)\n",
        "print(\"ラベルの形状:\", digits_data.target.shape)\n",
        "print(\"最初の画像データ:\", digits_data.data[0])\n",
        "print(\"最初のラベル:\", digits_data.target[0])"
      ],
      "execution_count": null,
      "outputs": []
    },
    {
      "cell_type": "markdown",
      "metadata": {
        "id": "7L2jtukG34NY"
      },
      "source": [
        "## ●Pyplotインターフェイス\n",
        "「Pyplotインターフェイス」は`plt`を使った記述で完結するスタイルです。  \n",
        "matplotlibのベースとなったMATLABを模しています。  \n",
        "細かい設定が必要なく、短い記述でグラフを描画することができます。  \n",
        "以下のコードでは、`plt`を使い、8×8のモノクロ画像を表示します。  "
      ]
    },
    {
      "cell_type": "code",
      "metadata": {
        "id": "6VfUMaAd34Nb"
      },
      "source": [
        "import numpy as np\n",
        "import matplotlib.pyplot as plt\n",
        "from sklearn import datasets\n",
        "\n",
        "digits_data = datasets.load_digits()\n",
        "\n",
        "i = 3  # 画像のインデックス\n",
        "plt.imshow(digits_data.data[i].reshape(8, 8), cmap=\"Greys_r\")  # 画像の表示\n",
        "plt.title(digits_data.target[i])  # ラベルの表示\n",
        "\n",
        "plt.show()"
      ],
      "execution_count": null,
      "outputs": []
    },
    {
      "cell_type": "code",
      "metadata": {
        "id": "049FLlVU34Nc"
      },
      "source": [
        "# 練習用\n"
      ],
      "execution_count": null,
      "outputs": []
    },
    {
      "cell_type": "markdown",
      "metadata": {
        "id": "ZhYnkTK4ydcs"
      },
      "source": [
        "## ●オブジェクト指向インターフェイス\n",
        "「オブジェクト指向インターフェイス」は、`ax = plt.subplot()`などの表記で記述するスタイルです。  \n",
        "`ax`は「Artist」と呼ばれるオブジェクトの一種です。  \n",
        "Pyplotインターフェイスと比較して、より細かい設定を行うことが可能です。  \n",
        "以下のコードでは、`ax`を使い、8×8のモノクロ画像を並べて表示します。  "
      ]
    },
    {
      "cell_type": "code",
      "metadata": {
        "id": "uPhIDErlydcu"
      },
      "source": [
        "import numpy as np\n",
        "import matplotlib.pyplot as plt\n",
        "from sklearn import datasets\n",
        "\n",
        "digits_data = datasets.load_digits()\n",
        "\n",
        "n_img = 10  # 表示する画像の数\n",
        "plt.figure(figsize=(10, 4))  # 表示領域のサイズ\n",
        "\n",
        "for i in range(n_img):\n",
        "    ax = plt.subplot(2, 5, i+1)  # 2×5に並べる\n",
        "    ax.imshow(digits_data.data[i].reshape(8, 8), cmap=\"Greys_r\")  # 画像の表示\n",
        "\n",
        "    ax.set_title(digits_data.target[i])  # ラベルの表示\n",
        "    ax.get_xaxis().set_visible(False)  # x軸を非表示に\n",
        "    ax.get_yaxis().set_visible(False)  # y軸を非表示に\n",
        "\n",
        "plt.show()"
      ],
      "execution_count": null,
      "outputs": []
    },
    {
      "cell_type": "code",
      "metadata": {
        "id": "G2cA1xc4CZ8_"
      },
      "source": [
        "# 練習用\n"
      ],
      "execution_count": null,
      "outputs": []
    },
    {
      "cell_type": "markdown",
      "source": [
        "## ●演習\n",
        "「オブジェクト指向インターフェイス」により、複数の散布図を並べて表示しましょう。"
      ],
      "metadata": {
        "id": "i5ARLH-SPRsV"
      }
    },
    {
      "cell_type": "code",
      "source": [
        "import numpy as np\n",
        "import matplotlib.pyplot as plt\n",
        "\n",
        "n_sc = 10  # 表示する散布図の数\n",
        "plt.figure(figsize=(10, 4))  # 表示領域のサイズ\n",
        "\n",
        "for i in range(n_sc):\n",
        "    ax =  # ←ここにコードを追記:  散布図を2×5に並べる\n",
        "    x = np.random.randn(10)  # 横軸: ランダムな10の値\n",
        "    y = np.random.randn(10)  # 縦軸: ランダムな10の値\n",
        "    ax.  # ←ここにコードを追記: 散布図のプロット\n",
        "\n",
        "    ax.set_xlim(-4, 4)  # x軸の表示範囲\n",
        "    ax.set_ylim(-4, 4)  # y軸の表示範囲\n",
        "\n",
        "plt.show()"
      ],
      "metadata": {
        "id": "On-YgGN_Qasz"
      },
      "execution_count": null,
      "outputs": []
    },
    {
      "cell_type": "markdown",
      "source": [
        "## ●解答例\n",
        "以下は解答例です。  \n",
        "どうしても分からない時、もしくは答え合わせ時に参考にしましょう。"
      ],
      "metadata": {
        "id": "Q_P1_O_FQY7J"
      }
    },
    {
      "cell_type": "code",
      "source": [
        "import numpy as np\n",
        "import matplotlib.pyplot as plt\n",
        "\n",
        "n_sc = 10  # 表示する散布図の数\n",
        "plt.figure(figsize=(10, 4))  # 表示領域のサイズ\n",
        "\n",
        "for i in range(n_sc):\n",
        "    ax = plt.subplot(2, 5, i+1)  # ←ここにコードを追記:  散布図を2×5に並べる\n",
        "    x = np.random.randn(10)  # 横軸: ランダムな10の値\n",
        "    y = np.random.randn(10)  # 縦軸: ランダムな10の値\n",
        "    ax.scatter(x, y, marker=\"+\")  # ←ここにコードを追記: 散布図のプロット\n",
        "\n",
        "    ax.set_xlim(-4, 4)  # x軸の表示範囲\n",
        "    ax.set_ylim(-4, 4)  # y軸の表示範囲\n",
        "\n",
        "plt.show()"
      ],
      "metadata": {
        "id": "R4iP50DMP3Cr"
      },
      "execution_count": null,
      "outputs": []
    }
  ]
}