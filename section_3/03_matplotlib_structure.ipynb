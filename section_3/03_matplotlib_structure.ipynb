{
  "nbformat": 4,
  "nbformat_minor": 0,
  "metadata": {
    "colab": {
      "name": "03_matplotlib_structure.ipynb",
      "provenance": [],
      "collapsed_sections": [],
      "authorship_tag": "ABX9TyPdgoTaltualCX7oFJDFNvX",
      "include_colab_link": true
    },
    "kernelspec": {
      "name": "python3",
      "display_name": "Python 3"
    },
    "language_info": {
      "name": "python"
    }
  },
  "cells": [
    {
      "cell_type": "markdown",
      "metadata": {
        "id": "view-in-github",
        "colab_type": "text"
      },
      "source": [
        "<a href=\"https://colab.research.google.com/github/yukinaga/numpy_matplotlib/blob/main/section_3/03_matplotlib_structure.ipynb\" target=\"_parent\"><img src=\"https://colab.research.google.com/assets/colab-badge.svg\" alt=\"Open In Colab\"/></a>"
      ]
    },
    {
      "cell_type": "markdown",
      "metadata": {
        "id": "8kW_qXJVTjic"
      },
      "source": [
        "# matplotlibの構造\n",
        "Figure、Axesなどを含むmatplotlibの構造を確認しましょう。"
      ]
    },
    {
      "cell_type": "markdown",
      "metadata": {
        "id": "7sCe4jUWi_E1"
      },
      "source": [
        "## ●Figure、Axes、曲線の作成\n",
        "Figure上にAxesを作成し、Axes上に曲線を追加します。  \n",
        "FigureとAxesは「Container」に、曲線（Line2D）は「Primitives」に分類されます。"
      ]
    },
    {
      "cell_type": "code",
      "metadata": {
        "id": "PzzwpJioi_E_"
      },
      "source": [
        "import numpy as np\n",
        "import matplotlib.pyplot as plt\n",
        "\n",
        "x = np.linspace(-np.pi, np.pi)\n",
        "y_1 = np.sin(x)\n",
        "y_2 = np.cos(x)\n",
        "\n",
        "fig = plt.figure() # Figureの作成\n",
        "print(\"Before axes:\", fig.axes)  # Axes作成前\n",
        "ax = fig.add_subplot(1,1,1) # Axesの作成\n",
        "print(\"After axes:\", fig.axes)  # Axes作成後\n",
        "\n",
        "print(\"Before lines:\", ax.lines)  # 曲線の配置前\n",
        "line_1 = ax.plot(x, y_1, label=\"sin\")\n",
        "line_2 = ax.plot(x, y_2, label=\"cos\") \n",
        "print(\"After lines:\", ax.lines)  # 曲線の配置後\n",
        "\n",
        "plt.legend() # 凡例の表示\n",
        "plt.show()"
      ],
      "execution_count": null,
      "outputs": []
    },
    {
      "cell_type": "code",
      "metadata": {
        "id": "ugQeqwuvi_FA"
      },
      "source": [
        "# 練習用\n"
      ],
      "execution_count": null,
      "outputs": []
    },
    {
      "cell_type": "markdown",
      "metadata": {
        "id": "7L2jtukG34NY"
      },
      "source": [
        "## ●Figureに複数をAxesを配置\n",
        "Figure上に複数のAxesを配置し、各Axes上に画像を配置します。  \n",
        "FigureとAxesは「Container」に、画像（AxesImage）は「Primitives」に分類されます。"
      ]
    },
    {
      "cell_type": "code",
      "metadata": {
        "id": "6VfUMaAd34Nb"
      },
      "source": [
        "import numpy as np\n",
        "import matplotlib.pyplot as plt\n",
        "from sklearn import datasets\n",
        "\n",
        "digits_data = datasets.load_digits()\n",
        "\n",
        "n_img = 10  # 表示する画像の数\n",
        "fig = plt.figure(figsize=(10, 4))  # 表示領域のサイズ\n",
        "\n",
        "for i in range(n_img):\n",
        "    ax = plt.subplot(2, 5, i+1)  # 2×5に並べる\n",
        "    img = ax.imshow(digits_data.data[i].reshape(8, 8), cmap=\"Greys_r\")  # 画像の表示\n",
        "\n",
        "    ax.set_title(digits_data.target[i])  # ラベルの表示\n",
        "    ax.get_xaxis().set_visible(False)  # x軸を非表示に\n",
        "    ax.get_yaxis().set_visible(False)  # y軸を非表示に\n",
        "\n",
        "plt.show()\n",
        "\n",
        "print(\"Axes in Figure:\", fig.axes)  # Figureの中に含まれるAxes\n",
        "print(\"Images in Axes:\", fig.axes[0].images)  # Axesの中に含まれる画像"
      ],
      "execution_count": null,
      "outputs": []
    },
    {
      "cell_type": "code",
      "metadata": {
        "id": "049FLlVU34Nc"
      },
      "source": [
        "# 練習用\n"
      ],
      "execution_count": null,
      "outputs": []
    },
    {
      "cell_type": "markdown",
      "source": [
        "## ●演習\n",
        "Axes上にPrimitiveの一種「散布図」が配置されたことを確認しましょう。  \n",
        "Axes上の散布図にアクセスする方法は、以下の公式ドキュメントで調べましょう。  \n",
        "https://matplotlib.org/stable/tutorials/intermediate/artists.html#axes-container"
      ],
      "metadata": {
        "id": "i5ARLH-SPRsV"
      }
    },
    {
      "cell_type": "code",
      "source": [
        "import numpy as np\n",
        "import matplotlib.pyplot as plt\n",
        "\n",
        "x_1 = np.random.rand(50) - 1.0  # 座標を左に1.0ずらす\n",
        "y_1 = np.random.rand(50)\n",
        "x_2 = np.random.rand(50)\n",
        "y_2 = np.random.rand(50)\n",
        "\n",
        "fig = plt.figure() # Figureの作成\n",
        "ax = fig.add_subplot(1,1,1) # Axesの作成\n",
        "\n",
        "print(\"Before scatter:\",  # ←ここにコードを追記: 散布図の配置前\n",
        "line_1 = ax.scatter(x_1, y_1, marker=\"+\")\n",
        "line_2 = ax.scatter(x_2, y_2, marker=\"*\") \n",
        "print(\"After scatter:\",  # ←ここにコードを追記: 散布図の配置後\n",
        "\n",
        "plt.show()"
      ],
      "metadata": {
        "id": "On-YgGN_Qasz"
      },
      "execution_count": null,
      "outputs": []
    },
    {
      "cell_type": "markdown",
      "source": [
        "## ●解答例\n",
        "以下は解答例です。  \n",
        "どうしても分からない時、もしくは答え合わせ時に参考にしましょう。"
      ],
      "metadata": {
        "id": "Q_P1_O_FQY7J"
      }
    },
    {
      "cell_type": "code",
      "source": [
        "import numpy as np\n",
        "import matplotlib.pyplot as plt\n",
        "\n",
        "x_1 = np.random.rand(50) - 1.0  # 座標を左に1.0ずらす\n",
        "y_1 = np.random.rand(50)\n",
        "x_2 = np.random.rand(50)\n",
        "y_2 = np.random.rand(50)\n",
        "\n",
        "fig = plt.figure() # Figureの作成\n",
        "ax = fig.add_subplot(1,1,1) # Axesの作成\n",
        "\n",
        "print(\"Before scatter:\", ax.collections)  # ←ここにコードを追記: 散布図の配置前\n",
        "line_1 = ax.scatter(x_1, y_1, marker=\"+\")\n",
        "line_2 = ax.scatter(x_2, y_2, marker=\"*\") \n",
        "print(\"After scatter:\", ax.collections)  # ←ここにコードを追記: 散布図の配置後\n",
        "\n",
        "plt.show()"
      ],
      "metadata": {
        "id": "R4iP50DMP3Cr"
      },
      "execution_count": null,
      "outputs": []
    }
  ]
}