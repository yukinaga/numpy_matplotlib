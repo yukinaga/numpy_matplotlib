{
  "nbformat": 4,
  "nbformat_minor": 0,
  "metadata": {
    "kernelspec": {
      "display_name": "Python 3",
      "language": "python",
      "name": "python3"
    },
    "language_info": {
      "codemirror_mode": {
        "name": "ipython",
        "version": 3
      },
      "file_extension": ".py",
      "mimetype": "text/x-python",
      "name": "python",
      "nbconvert_exporter": "python",
      "pygments_lexer": "ipython3",
      "version": "3.6.7"
    },
    "colab": {
      "name": "01_various_graphs.ipynb",
      "provenance": [],
      "collapsed_sections": [],
      "include_colab_link": true
    }
  },
  "cells": [
    {
      "cell_type": "markdown",
      "metadata": {
        "id": "view-in-github",
        "colab_type": "text"
      },
      "source": [
        "<a href=\"https://colab.research.google.com/github/yukinaga/numpy_matplotlib/blob/main/section_3/01_various_graphs.ipynb\" target=\"_parent\"><img src=\"https://colab.research.google.com/assets/colab-badge.svg\" alt=\"Open In Colab\"/></a>"
      ]
    },
    {
      "cell_type": "markdown",
      "metadata": {
        "id": "8kW_qXJVTjic"
      },
      "source": [
        "# matplotlibの様々なグラフ\n",
        "matplotlibを使い、様々なグラフを描画してみましょう。"
      ]
    },
    {
      "cell_type": "markdown",
      "metadata": {
        "id": "0mu15tSKTjid"
      },
      "source": [
        "## ●matplotlibのインポート\n",
        "グラフを描画するために、matplotlibのpyplotというモジュールをインポートします。  \n",
        "pyplotはグラフの描画をサポートします。  \n",
        "データの操作にNumPyの配列を使うので、NumPyもインポートします。  "
      ]
    },
    {
      "cell_type": "code",
      "metadata": {
        "id": "we7B75pyTjid"
      },
      "source": [
        "import numpy as np\n",
        "import matplotlib.pyplot as plt"
      ],
      "execution_count": null,
      "outputs": []
    },
    {
      "cell_type": "code",
      "metadata": {
        "id": "G2cA1xc4CZ8_"
      },
      "source": [
        "# 練習用\n"
      ],
      "execution_count": null,
      "outputs": []
    },
    {
      "cell_type": "markdown",
      "metadata": {
        "id": "bgdKW1W2Tjih"
      },
      "source": [
        "## ●linspace関数\n",
        "\n",
        "matplotlibでグラフを描画する際に、NumPyのlinspace関数がよく使われます。  \n",
        "linspace関数は、ある区間を50に等間隔で区切ってNumPyの配列にします。  \n",
        "この配列を、グラフの横軸の値としてよく使います。  "
      ]
    },
    {
      "cell_type": "code",
      "metadata": {
        "id": "qM9-iLYqTjih"
      },
      "source": [
        "import numpy as np\n",
        "\n",
        "x = np.linspace(-5, 5)  # -5から5まで50に区切る\n",
        "\n",
        "print(x)\n",
        "print(len(x))  # xの要素数"
      ],
      "execution_count": null,
      "outputs": []
    },
    {
      "cell_type": "code",
      "metadata": {
        "id": "nSQNqbrzrsxK"
      },
      "source": [
        "# 練習用\n"
      ],
      "execution_count": null,
      "outputs": []
    },
    {
      "cell_type": "markdown",
      "metadata": {
        "id": "aIhyp2e0Tjij"
      },
      "source": [
        "この配列を使って、連続に変化する横軸の値を擬似的に表現します。"
      ]
    },
    {
      "cell_type": "markdown",
      "metadata": {
        "id": "z95B1-4gTjik"
      },
      "source": [
        "## ●グラフの描画\n",
        "\n",
        "例として、pyplotを使って直線を描画します。  \n",
        "NumPyのlinspace関数でx座標のデータを配列として生成し、これに値をかけてy座標とします。  \n",
        "そして、pyplotのplotで、x座標、y座標のデータをプロットし、showでグラフを表示します。  "
      ]
    },
    {
      "cell_type": "code",
      "metadata": {
        "id": "9ZvIXOLNTjil"
      },
      "source": [
        "import numpy as np\n",
        "import matplotlib.pyplot as plt\n",
        "\n",
        "x = np.linspace(-5, 5)  # -5から5まで\n",
        "y = 2 * x  # xに2をかけてy座標とする\n",
        "\n",
        "plt.plot(x, y)\n",
        "plt.show()"
      ],
      "execution_count": null,
      "outputs": []
    },
    {
      "cell_type": "code",
      "metadata": {
        "id": "KpYWYlDCrtim"
      },
      "source": [
        "# 練習用\n"
      ],
      "execution_count": null,
      "outputs": []
    },
    {
      "cell_type": "markdown",
      "metadata": {
        "id": "mBVPsou-Tjin"
      },
      "source": [
        "## ●グラフの装飾\n",
        "軸のラベルやグラフのタイトル、凡例などを表示し、線のスタイルを変更してリッチなグラフにしましょう。"
      ]
    },
    {
      "cell_type": "code",
      "metadata": {
        "id": "OLs9cslOTjio"
      },
      "source": [
        "import numpy as np\n",
        "import matplotlib.pyplot as plt\n",
        "\n",
        "x = np.linspace(-5, 5)\n",
        "y_1 = 2 * x\n",
        "y_2 = 3 * x\n",
        "\n",
        "# 軸のラベル\n",
        "plt.xlabel(\"x value\")\n",
        "plt.ylabel(\"y value\")\n",
        "\n",
        "# グラフのタイトル\n",
        "plt.title(\"My Graph\")\n",
        "\n",
        "# プロット 凡例と線のスタイルを指定\n",
        "plt.plot(x, y_1, label=\"y1\")\n",
        "plt.plot(x, y_2, label=\"y2\", linestyle=\"dashed\")\n",
        "plt.legend() # 凡例を表示\n",
        "\n",
        "plt.show()"
      ],
      "execution_count": null,
      "outputs": []
    },
    {
      "cell_type": "code",
      "metadata": {
        "id": "NnJRXGJnrt96"
      },
      "source": [
        "# 練習用\n"
      ],
      "execution_count": null,
      "outputs": []
    },
    {
      "cell_type": "markdown",
      "metadata": {
        "id": "Em77a0SYTjiq"
      },
      "source": [
        "## ●散布図の表示\n",
        "scatter関数により散布図を表示することができます。  \n",
        "以下のコードでは、x座標、y座標から散布図を描画しています。 "
      ]
    },
    {
      "cell_type": "code",
      "metadata": {
        "id": "pIJ6Wmc5Tjir"
      },
      "source": [
        "import numpy as np\n",
        "import matplotlib.pyplot as plt\n",
        "\n",
        "x_1 = np.random.rand(50) - 1.0  # 座標を左に1.0ずらす\n",
        "y_1 = np.random.rand(50)\n",
        "x_2 = np.random.rand(50)\n",
        "y_2 = np.random.rand(50)\n",
        "\n",
        "plt.scatter(x_1, y_1, marker=\"+\")  # 散布図のプロット\n",
        "plt.scatter(x_2, y_2, marker=\"*\")\n",
        "\n",
        "plt.show()"
      ],
      "execution_count": null,
      "outputs": []
    },
    {
      "cell_type": "code",
      "metadata": {
        "id": "STW9SvUlrurw"
      },
      "source": [
        "# 練習用\n"
      ],
      "execution_count": null,
      "outputs": []
    },
    {
      "cell_type": "markdown",
      "metadata": {
        "id": "W-y1S8emNRjZ"
      },
      "source": [
        "## ●棒グラフの表示\n",
        "bar関数により棒グラフを表示することができます。  \n",
        "以下のコードは、棒グラフを2つ重ねて描画します。 "
      ]
    },
    {
      "cell_type": "code",
      "metadata": {
        "id": "kBCjycpkNRjb"
      },
      "source": [
        "import numpy as np\n",
        "import matplotlib.pyplot as plt\n",
        "\n",
        "x = np.array([1, 2, 3, 4, 5])\n",
        "y_1 = np.array([100, 300, 500, 400, 200])\n",
        "y_2 = np.array([200, 400, 300, 100, 500])\n",
        "\n",
        "plt.bar(x, y_1, color=\"blue\")  # 棒グラフ\n",
        "plt.bar(x, y_2, bottom=y_1, color=\"orange\")  # 棒グラフを重ねる\n",
        "plt.show()"
      ],
      "execution_count": null,
      "outputs": []
    },
    {
      "cell_type": "code",
      "metadata": {
        "id": "uF4dNKx_NRjb"
      },
      "source": [
        "# 練習用\n"
      ],
      "execution_count": null,
      "outputs": []
    },
    {
      "cell_type": "markdown",
      "metadata": {
        "id": "zvmpy7T_TFgs"
      },
      "source": [
        "## ●円グラフの表示\n",
        "pie関数により円グラフを表示することができます。  \n",
        "以下のコードは、円グラフを描画します。 "
      ]
    },
    {
      "cell_type": "code",
      "metadata": {
        "id": "lh2GfD0cTFg0"
      },
      "source": [
        "import numpy as np\n",
        "import matplotlib.pyplot as plt\n",
        "\n",
        "x = np.array([500, 400, 300, 200, 100])\n",
        "labels = [\"Lion\", \"Tiger\", \"Leopard\", \"Jaguar\", \"Others\"]  # ラベル\n",
        "plt.pie(x, labels=labels, counterclock=False, startangle=90)  # 円グラフ\n",
        "plt.show()"
      ],
      "execution_count": null,
      "outputs": []
    },
    {
      "cell_type": "code",
      "metadata": {
        "id": "WcCrkFtPTFg1"
      },
      "source": [
        "# 練習用\n"
      ],
      "execution_count": null,
      "outputs": []
    },
    {
      "cell_type": "markdown",
      "metadata": {
        "id": "_ihx7HjdTjit"
      },
      "source": [
        "## ●画像の表示\n",
        "pyplotのimshow関数は、配列を画像として表示することができます。  \n",
        "以下のコードは、配列を画像として表示するサンプルです。"
      ]
    },
    {
      "cell_type": "code",
      "metadata": {
        "id": "oCpZKjYcTjit"
      },
      "source": [
        "import numpy as np\n",
        "import matplotlib.pyplot as plt\n",
        "\n",
        "img = np.array([[0, 1, 2, 3],\n",
        "                [4, 5, 6, 7],\n",
        "                [8, 9, 10,11],\n",
        "                [12,13,14,15]])\n",
        "\n",
        "plt.imshow(img, \"gray\")  # グレースケールで表示\n",
        "plt.colorbar()   # カラーバーの表示\n",
        "plt.show()"
      ],
      "execution_count": null,
      "outputs": []
    },
    {
      "cell_type": "code",
      "metadata": {
        "id": "deMcLy3irvQ6"
      },
      "source": [
        "# 練習用\n"
      ],
      "execution_count": null,
      "outputs": []
    },
    {
      "cell_type": "markdown",
      "metadata": {
        "id": "TM2PRUnyTjiv"
      },
      "source": [
        "この場合、0が黒、15が白を表し、その間の値はこれらの中間色を表します。  \n",
        "カラーバーを表示することもできます。"
      ]
    },
    {
      "cell_type": "markdown",
      "source": [
        "## ●演習\n",
        "以下のコードに追記を行い、散布図を描画しましょう。  \n",
        "`random.randn`関数は、「正規分布」に従う乱数を返します。"
      ],
      "metadata": {
        "id": "i5ARLH-SPRsV"
      }
    },
    {
      "cell_type": "code",
      "source": [
        "import numpy as np\n",
        "import matplotlib.pyplot as plt\n",
        "\n",
        "x_1 = np.random.randn(200) - 1.5  # 座標を左に1.5ずらす\n",
        "y_1 = np.random.randn(200)\n",
        "x_2 = np.random.randn(200) + 1.5  # 座標を右に1.5ずらす\n",
        "y_2 = np.random.randn(200)\n",
        "\n",
        "# 散布図のプロット\n",
        "plt.scatter(  # ←ここにコードを追記\n",
        "plt.scatter(  # ←ここにコードを追記\n",
        "\n",
        "plt.show()"
      ],
      "metadata": {
        "id": "On-YgGN_Qasz"
      },
      "execution_count": null,
      "outputs": []
    },
    {
      "cell_type": "markdown",
      "source": [
        "## ●解答例\n",
        "以下は解答例です。  \n",
        "どうしても分からない時、もしくは答え合わせ時に参考にしましょう。"
      ],
      "metadata": {
        "id": "Q_P1_O_FQY7J"
      }
    },
    {
      "cell_type": "code",
      "source": [
        "import numpy as np\n",
        "import matplotlib.pyplot as plt\n",
        "\n",
        "x_1 = np.random.randn(200) - 1.5  # 座標を左に1.5ずらす\n",
        "y_1 = np.random.randn(200)\n",
        "x_2 = np.random.randn(200) + 1.5  # 座標を右に1.5ずらす\n",
        "y_2 = np.random.randn(200)\n",
        "\n",
        "# 散布図のプロット\n",
        "plt.scatter(x_1, y_1, marker=\"+\")  # ←ここにコードを追記\n",
        "plt.scatter(x_2, y_2, marker=\"*\")  # ←ここにコードを追記\n",
        "\n",
        "plt.show()"
      ],
      "metadata": {
        "id": "R4iP50DMP3Cr"
      },
      "execution_count": null,
      "outputs": []
    }
  ]
}